{
 "cells": [
  {
   "cell_type": "code",
   "execution_count": null,
   "id": "768a9ed9-d14c-4e2c-aa08-0967bc77398e",
   "metadata": {
    "tags": []
   },
   "outputs": [],
   "source": [
    "import numpy as np\n",
    "import pandas as pd\n",
    "import matplotlib.pyplot as plt\n",
    "\n",
    "from database.query import get_trajattr\n",
    "from conf.conf_analysis import protca\n",
    "from utils.dataset import read_trajdata\n",
    "from plot.plot_utilities import edgeformat, savefig, hist1d, hist2d"
   ]
  },
  {
   "cell_type": "markdown",
   "id": "00a5e36f-7140-4f86-bdea-450863ac9000",
   "metadata": {},
   "source": [
    "# Preparation"
   ]
  },
  {
   "cell_type": "code",
   "execution_count": null,
   "id": "e4d890ee",
   "metadata": {
    "tags": []
   },
   "outputs": [],
   "source": [
    "%store -r traj_ids\n",
    "%store -r traj_ids_closed\n",
    "%store -r states_df\n",
    "\n",
    "%store -r map_assign\n",
    "%store -r color_assign"
   ]
  },
  {
   "cell_type": "code",
   "execution_count": null,
   "id": "c8987ffe-1a29-4095-b376-492b7fceb21c",
   "metadata": {},
   "outputs": [],
   "source": [
    "label = 'tmpc1v2'\n",
    "states = states_df[label]"
   ]
  },
  {
   "cell_type": "markdown",
   "id": "b0cc2eb8",
   "metadata": {
    "jp-MarkdownHeadingCollapsed": true,
    "tags": []
   },
   "source": [
    "# Time evolution of fractional populations of states"
   ]
  },
  {
   "cell_type": "code",
   "execution_count": null,
   "id": "fe0ff61f",
   "metadata": {},
   "outputs": [],
   "source": [
    "state_proportions = pd.DataFrame(columns=states.unique())\n",
    "\n",
    "# In this soft assignment, there should not be any NaN\n",
    "for t in np.arange(1000+1):\n",
    "    state_breakdown = states_df.query('timestep == @t')[label].value_counts(normalize=True)\n",
    "    state_proportions.loc[t, state_breakdown.index] = state_breakdown.values\n",
    "    \n",
    "# Unexpected change of datatype? Weird\n",
    "state_proportions = state_proportions.astype(float)\n",
    "\n",
    "\n",
    "\n",
    "# Plotting\n",
    "fig, axs = plt.subplots()\n",
    "edgeformat(axs)\n",
    "for s in [3,0,2,1]:\n",
    "    plt.plot(state_proportions[s], label=map_assign[s], color=color_assign[s])\n",
    "    \n",
    "axs.set_xlim(0,1000)\n",
    "axs.set_ylim(0,0.5)\n",
    "axs.set_xticks(np.arange(0,1000+1,200))\n",
    "axs.set_xticklabels(np.arange(0,1000+1,200), fontsize=14)\n",
    "axs.set_yticks(np.arange(0,0.5+0.1,0.1))\n",
    "axs.set_yticklabels(np.arange(0,50+10,10), fontsize=14)\n",
    "axs.set_xlabel(\"Time [ns]\", fontsize=16)\n",
    "axs.set_ylabel(\"Fraction of state [%]\", fontsize=16)\n",
    "axs.grid(True, ls='--')\n",
    "\n",
    "plt.legend(ncols=2, loc=4)\n",
    "\n",
    "# savefig(\"state_fraction.pdf\")"
   ]
  },
  {
   "cell_type": "markdown",
   "id": "4d706a5f",
   "metadata": {
    "jp-MarkdownHeadingCollapsed": true,
    "tags": []
   },
   "source": [
    "# HOLE2 analysis of pore radius"
   ]
  },
  {
   "cell_type": "code",
   "execution_count": null,
   "id": "712568ee",
   "metadata": {},
   "outputs": [],
   "source": [
    "%store -r hole2_df\n",
    "%store -r states_df\n",
    "\n",
    "# # average along the columns\n",
    "# hole2_df_avg = hole2_df.mean(axis=0)\n",
    "# # standard deviation along the columns\n",
    "# hole2_df_std = hole2_df.std(axis=0)\n",
    "\n",
    "label = 'tmpc1v2'\n",
    "\n",
    "fig, axs = plt.subplots(figsize=(4, 6.4))\n",
    "edgeformat(axs)\n",
    "\n",
    "# TODO: tmp solution for unequal amount of data\n",
    "states_df_tmp = pd.merge(states_df, hole2_df[['traj_id', 'timestep']])\n",
    "\n",
    "for s in [3,0,2,1]:\n",
    "    state_hole2 = hole2_df[states_df_tmp[label].values == s].iloc[:,2:]\n",
    "    \n",
    "    # average along the columns\n",
    "    hole2_df_avg = state_hole2.mean(axis=0)\n",
    "    # standard deviation along the columns\n",
    "    hole2_df_std = state_hole2.std(axis=0)\n",
    "    # standard error along the columns\n",
    "    hole2_df_sem = state_hole2.sem(axis=0)\n",
    "    \n",
    "    plt.plot(hole2_df_avg.values, hole2_df_avg.index, label=map_assign[s], color=color_assign[s])\n",
    "    # TODO: bootstrap profiles as a whole might be a better idea?\n",
    "    plt.fill_betweenx(hole2_df_avg.index.astype(int), hole2_df_avg - 3*hole2_df_sem, hole2_df_avg + 3*hole2_df_sem, alpha=0.5)\n",
    "\n",
    "plt.ylim(90,150)\n",
    "plt.xlim(0,8)\n",
    "\n",
    "axs.set_yticks(np.arange(90,150+10,10))\n",
    "axs.set_yticklabels(np.arange(90,150+10,10)-130, fontsize=14)\n",
    "axs.set_xticks(np.arange(0,8+2,2))\n",
    "axs.set_xticklabels(np.arange(0,8+2,2), fontsize=14)\n",
    "plt.xlabel(\"Average radius of the pore [Å]\", fontsize=16)\n",
    "plt.ylabel(\"z [Å]\", fontsize=16)\n",
    "\n",
    "plt.legend()\n",
    "plt.grid(True)\n",
    "\n",
    "# savefig(\"avg_hole2.pdf\")"
   ]
  },
  {
   "cell_type": "code",
   "execution_count": null,
   "id": "80df2224",
   "metadata": {},
   "outputs": [],
   "source": [
    "# Min within the bottleneck\n",
    "fig, axs = plt.subplots(figsize=(6,2))\n",
    "edgeformat(axs)\n",
    "\n",
    "for s in [3,0,2,1]:\n",
    "    state_hole2 = hole2_df[states_df_tmp[label].values == s]\n",
    "    state_minrad = state_hole2.loc[:, 125:135].min(axis=1)\n",
    "    hist1d(state_minrad, bins=75, range=[0,5]).plot(axs=axs, lw=2,\n",
    "                                                    label=f\"{map_assign[s]}: {round(state_minrad.mean(), 1)} Å\", color=color_assign[s])\n",
    "plt.legend()\n",
    "\n",
    "axs.set_ylim(0,1.2)\n",
    "axs.set_yticks(np.arange(0,1.2+0.3,0.3))\n",
    "axs.set_yticklabels(np.arange(0,12+3,3)/10, fontsize=14)\n",
    "axs.set_xticks(np.arange(5+1))\n",
    "axs.set_xticklabels(np.arange(5+1), fontsize=14)\n",
    "\n",
    "plt.xlabel(r\"$R_{\\mathrm{min}}$ [Å]\", fontsize=16)\n",
    "plt.ylabel(\"Prob. Density [A.U.]\", fontsize=16)\n",
    "\n",
    "plt.grid(True, ls='--')\n",
    "plt.xlim(0,4)\n",
    "\n",
    "# savefig(\"minrad_distrib.pdf\")"
   ]
  },
  {
   "cell_type": "markdown",
   "id": "8572a050",
   "metadata": {
    "jp-MarkdownHeadingCollapsed": true,
    "tags": []
   },
   "source": [
    "# SASA"
   ]
  },
  {
   "cell_type": "code",
   "execution_count": null,
   "id": "66aeb5ef",
   "metadata": {},
   "outputs": [],
   "source": [
    "fig, Axs = plt.subplots(2, 1, sharex=True)\n",
    "\n",
    "background = fig.add_subplot(111)\n",
    "# Hide everything except the axis labels\n",
    "background.spines['top'].set_color('none')\n",
    "background.spines['bottom'].set_color('none')\n",
    "background.spines['left'].set_color('none')\n",
    "background.spines['right'].set_color('none')\n",
    "background.tick_params(labelcolor='none', top=False, bottom=False, left=False, right=False)\n",
    "# Also set the background to completely transparent\n",
    "background.patch.set_alpha(0.0)\n",
    "\n",
    "background.set_ylabel(\"Prob. Density [A.U.]\", fontsize=16)\n",
    "background.set_xlabel(r\"SASA [$\\mathrm{\\AA^3}$]\", fontsize=16)\n",
    "\n",
    "for axs in Axs:\n",
    "    edgeformat(axs)\n",
    "    axs.grid(True, ls='--')\n",
    "\n",
    "sasa_dat, _, _ = read_trajdata('sasa/t1115', traj_ids=traj_ids)\n",
    "\n",
    "for s in sorted(states_df[label].unique()):\n",
    "    subset_sasa = sasa_dat[states_df_tmp[label].values == s]\n",
    "    hist1d(subset_sasa, bins=40, range=[0,80]).plot(Axs[0], label=s, color=color_assign[s])\n",
    "    \n",
    "# for model, val in t1115_sasa.items():\n",
    "#     Axs[0].plot([val, val], [0,1], ls='--', alpha=0.5, color='grey')\n",
    "\n",
    "Axs[0].set_xlim(0,80)\n",
    "Axs[0].set_ylim(0,0.2)\n",
    "Axs[0].set_yticks(np.arange(0,2+1,1)/10)\n",
    "Axs[0].set_yticklabels(np.arange(0,2+1,1)/10, fontsize=12)\n",
    "Axs[0].set_xticks(np.arange(0,80+10,10))\n",
    "Axs[0].set_xticklabels(np.arange(0,80+10,10), fontsize=14)\n",
    "\n",
    "# plt.xlabel(r\"SASA [$\\mathrm{\\AA^3}$]\", fontsize=16)\n",
    "# plt.ylabel(\"Prob. Density [A.U.]\", fontsize=16)\n",
    "\n",
    "sasa_dat, _, _ = read_trajdata('sasa/s1118', traj_ids=traj_ids)\n",
    "\n",
    "for s in sorted(states_df[label].unique()):\n",
    "    subset_sasa = sasa_dat[states_df_tmp[label].values == s]\n",
    "    hist1d(subset_sasa, bins=40, range=[0,80]).plot(Axs[1], label=s, color=color_assign[s])\n",
    "    \n",
    "# for model, val in s1118_sasa.items():\n",
    "#     Axs[1].plot([val, val], [0,1], ls='--', alpha=0.5, color='grey')\n",
    "\n",
    "Axs[1].set_xlim(0,80)\n",
    "Axs[1].set_ylim(0,0.1)\n",
    "Axs[1].set_yticks(np.arange(0,1+1,1)/10)\n",
    "Axs[1].set_yticklabels(np.arange(0,1+1,1)/10, fontsize=12)\n",
    "Axs[1].set_xticks(np.arange(0,80+10,10))\n",
    "Axs[1].set_xticklabels(np.arange(0,80+10,10), fontsize=14)\n",
    "\n",
    "# savefig('tm11_sasa.pdf')"
   ]
  },
  {
   "cell_type": "markdown",
   "id": "ceb07782-800f-4684-813f-c7525c4ec0fa",
   "metadata": {
    "jp-MarkdownHeadingCollapsed": true,
    "tags": []
   },
   "source": [
    "# Residue distances"
   ]
  },
  {
   "cell_type": "code",
   "execution_count": null,
   "id": "d371b0d3-3a7b-4627-ac4c-28b73287c7c3",
   "metadata": {},
   "outputs": [],
   "source": [
    "traj_ids_closed = np.arange(1932,1952)+1\n",
    "conf_dat_closed = protca(traj_ids_closed, resids=[106, 334, 337, 338, 1118, 1122, 1115, 1134])\n",
    "conf_dat_closed.load_cainfo()\n",
    "\n",
    "conf_dat = protca(traj_ids, resids=[106, 334, 337, 338, 1118, 1122, 1115, 1134])\n",
    "conf_dat.load_cainfo()"
   ]
  },
  {
   "cell_type": "code",
   "execution_count": null,
   "id": "717f8d0e",
   "metadata": {},
   "outputs": [],
   "source": [
    "fig, Axs = plt.subplots(2, 1, sharex=True, gridspec_kw={'hspace': 0.3})\n",
    "\n",
    "background = fig.add_subplot(111)\n",
    "# Hide everything except the axis labels\n",
    "background.spines['top'].set_color('none')\n",
    "background.spines['bottom'].set_color('none')\n",
    "background.spines['left'].set_color('none')\n",
    "background.spines['right'].set_color('none')\n",
    "background.tick_params(labelcolor='none', top=False, bottom=False, left=False, right=False)\n",
    "# Also set the background to completely transparent\n",
    "background.patch.set_alpha(0.0)\n",
    "\n",
    "background.set_ylabel(\"Prob. Density [A.U.]\", fontsize=16)\n",
    "background.set_xlabel(r'C$\\alpha$ distance [$\\mathrm{\\AA}$]', fontsize=16)\n",
    "\n",
    "for axs in Axs:\n",
    "    edgeformat(axs)\n",
    "    axs.grid(True, ls='--')\n",
    "\n",
    "    \n",
    "### R334-T1122 ###\n",
    "dist_df = conf_dat.cadist_rpair([334, 1122])\n",
    "\n",
    "for s in sorted(states_df[label].unique()):\n",
    "    select = (states_df[label].values == s)\n",
    "    hist1d(dist_df[select]['dist'], bins=60, range=[5,35]).plot(axs=Axs[0], label=s, color=color_assign[s])\n",
    "    # print(np.min(dist_df[select]['dist']), color_assign[s])\n",
    "Axs[0].set_title('R334-T1122', fontsize=14)\n",
    "Axs[0].set_xlim(5,35)\n",
    "Axs[0].set_ylim(0,0.5)\n",
    "\n",
    "    \n",
    "### T338-S1118 ###\n",
    "dist_df = conf_dat.cadist_rpair([338, 1118])\n",
    "\n",
    "\n",
    "for s in sorted(states_df[label].unique()):\n",
    "    select = (states_df[label].values == s)\n",
    "    hist1d(dist_df[select]['dist'], bins=60, range=[5,35]).plot(axs=Axs[1], label=s, color=color_assign[s])\n",
    "Axs[1].set_title('T338-S1118', fontsize=14)\n",
    "Axs[1].set_xlim(5,35)\n",
    "Axs[1].set_ylim(0)\n",
    "    \n",
    "# savefig(\"TM6-TM11_distances.pdf\")"
   ]
  },
  {
   "cell_type": "markdown",
   "id": "1fe9a117",
   "metadata": {
    "tags": []
   },
   "source": [
    "# Translocation paths vs states and voltage"
   ]
  },
  {
   "cell_type": "markdown",
   "id": "9589f746-e6f3-4826-87d2-8561058a6481",
   "metadata": {
    "tags": []
   },
   "source": [
    "## Translocation paths mapped onto PC space"
   ]
  },
  {
   "cell_type": "code",
   "execution_count": null,
   "id": "004203db",
   "metadata": {},
   "outputs": [],
   "source": [
    "# Pre-prequisites\n",
    "%store -r transloc_df\n",
    "%store -r r334sc\n",
    "%store -r pca_df"
   ]
  },
  {
   "cell_type": "code",
   "execution_count": null,
   "id": "79eb9de3-30db-4c5c-807b-e1bab954392e",
   "metadata": {
    "tags": []
   },
   "outputs": [],
   "source": [
    "labels = states_df[label].values\n",
    "\n",
    "# Using merge to get states_df with traj_id and timestep in transloc_tf\n",
    "transloc_states_df = states_df.merge(transloc_df, on=['traj_id', 'timestep'])\n",
    "# Count the occurences of each state in transloc_states_df['tm11xy']\n",
    "transloc_states_pca_df = pd.merge(transloc_states_df, pca_df, on=['traj_id', 'timestep'])\n",
    "transloc_states_pca_df['Ez'] = transloc_states_pca_df['traj_id'].apply(lambda t: get_trajattr(t, 'voltage'))\n",
    "transloc_states_pca_df['path_assign'] = transloc_states_pca_df['path_assign'].astype(int)\n",
    "transloc_states_pca_df"
   ]
  },
  {
   "cell_type": "code",
   "execution_count": null,
   "id": "761f2e7f",
   "metadata": {},
   "outputs": [],
   "source": [
    "color_dict = {0:'red', 1:'blue', 2:'limegreen'}\n",
    "# color_dict = {0:'green', 1:'blue', 2:'green'}\n",
    "\n",
    "# Quick contour view\n",
    "fig, axs = plt.subplots()\n",
    "\n",
    "xrange = [-70,70]\n",
    "yrange = [-55,55]\n",
    "\n",
    "hist = hist2d(*pca_df[['pc1', 'pc2']].values.T, bins=60, range=[xrange, yrange])\n",
    "plot = hist.hist2d_contour(axs, lw=0.3, colors='black')\n",
    "edgeformat(axs)\n",
    "\n",
    "for path in np.arange(3):\n",
    "    pc1, pc2 = transloc_states_pca_df.query(\"path_assign == @path\")[['pc1', 'pc2']].values.T\n",
    "    axs.scatter(pc1, pc2, c=color_dict[path], s=4, label=path, alpha=0.5)\n",
    "\n",
    "axs.set_xlabel(r'PC1 [$\\mathrm{\\AA}$]', fontsize=16)\n",
    "axs.set_ylabel(r'PC2 [$\\mathrm{\\AA}$]', fontsize=16)\n",
    "axs.set_xlim(*xrange)\n",
    "axs.set_ylim(*yrange)\n",
    "\n",
    "# savefig(\"transloc_path_proj_pc.pdf\")"
   ]
  },
  {
   "cell_type": "code",
   "execution_count": null,
   "id": "1f457fee",
   "metadata": {},
   "outputs": [],
   "source": [
    "# Breakdown by states\n",
    "# Present as bar graph\n",
    "\n",
    "fig, axs = plt.subplots(figsize=(6,2))\n",
    "edgeformat(axs)\n",
    "\n",
    "barbase = np.zeros(4)\n",
    "\n",
    "transloc_subdf = transloc_states_pca_df\n",
    "print(len(transloc_subdf))\n",
    "\n",
    "path_labels = ['1-12', '1-6', 'intermed.']\n",
    "\n",
    "collect_counts = []\n",
    "path_label_order = [1,0,2]\n",
    "\n",
    "for path in path_label_order:\n",
    "    counts = [dict(transloc_subdf.query(\"tmpc1v2 == @s\")['path_assign'].value_counts()).get(path, 0) for s in [3,0,2,1]]\n",
    "    print(counts)\n",
    "    counts = [dict(transloc_subdf.query(\"tmpc1v2 == @s\")['path_assign'].value_counts()).get(path, 0) / len(transloc_subdf) for s in [3,0,2,1]]\n",
    "    # print(counts)\n",
    "    counts = np.array(counts)\n",
    "\n",
    "    axs.bar(np.arange(4), counts, bottom=barbase, color=color_dict[path], label=path_labels[path], zorder=3)\n",
    "    barbase += counts\n",
    "    \n",
    "    collect_counts.append(counts)\n",
    "\n",
    "axs.set_xticks(np.arange(4))\n",
    "axs.set_xticklabels([map_assign[s] for s in [3,0,2,1]], fontsize=16)\n",
    "axs.set_yticks(np.arange(0,100+20,20)/100)\n",
    "axs.set_yticklabels(np.arange(0,100+20,20), fontsize=12)\n",
    "axs.set_ylabel(\"Fraction [%]\", fontsize=16)\n",
    "\n",
    "axs.grid(axis='y', ls='--', zorder=0)\n",
    "\n",
    "### Adapted from: https://www.statology.org/matplotlib-legend-order/\n",
    "# get handles and labels\n",
    "handles, labels = plt.gca().get_legend_handles_labels()\n",
    "# specify order of items in legend\n",
    "order = [2,1,0]\n",
    "# add legend to plot\n",
    "axs.legend([handles[idx] for idx in order], [labels[idx] for idx in order])\n",
    "\n",
    "# savefig(\"transloc_path_distribution.pdf\")"
   ]
  },
  {
   "cell_type": "markdown",
   "id": "8cba5265-aad1-4440-ba69-ce53b63231d4",
   "metadata": {
    "tags": []
   },
   "source": [
    "## By voltage: barplot"
   ]
  },
  {
   "cell_type": "code",
   "execution_count": null,
   "id": "f6654e69-64a9-4b28-bc64-f2b6e5f41875",
   "metadata": {},
   "outputs": [],
   "source": [
    "# Breakdown by states\n",
    "# Present as bar graph\n",
    "\n",
    "fig, axs = plt.subplots(figsize=(6,2))\n",
    "edgeformat(axs)\n",
    "\n",
    "barbase = np.zeros(4)\n",
    "\n",
    "transloc_subdf = transloc_states_pca_df.query(\"Ez >= -0.006 & Ez <= 0.006\")\n",
    "print(len(transloc_subdf))\n",
    "\n",
    "path_labels = ['1-12', '1-6', 'intermed.']\n",
    "path_label_order = [1,0,2]\n",
    "\n",
    "collect_counts = []\n",
    "for path in path_label_order:\n",
    "    counts = [dict(transloc_subdf.query(\"tmpc1v2 == @s\")['path_assign'].value_counts()).get(path, 0) for s in [3,0,2,1]]\n",
    "    print(counts)\n",
    "    counts = [dict(transloc_subdf.query(\"tmpc1v2 == @s\")['path_assign'].value_counts()).get(path, 0) / len(transloc_subdf) for s in [3,0,2,1]]\n",
    "    # print(counts)\n",
    "    counts = np.array(counts)\n",
    "\n",
    "    axs.bar(np.arange(4), counts, bottom=barbase, color=color_dict[path], label=path_labels[path], zorder=3)\n",
    "    barbase += counts\n",
    "    \n",
    "    collect_counts.append(counts)\n",
    "\n",
    "axs.set_xticks(np.arange(4))\n",
    "axs.set_xticklabels([map_assign[s] for s in [3,0,2,1]], fontsize=16)\n",
    "axs.set_yticks(np.arange(0,100+20,20)/100)\n",
    "axs.set_yticklabels(np.arange(0,100+20,20), fontsize=12)\n",
    "axs.set_ylabel(\"Fraction [%]\", fontsize=16)\n",
    "\n",
    "axs.grid(axis='y', ls='--', zorder=0)\n",
    "\n",
    "### Adapted from: https://www.statology.org/matplotlib-legend-order/\n",
    "# get handles and labels\n",
    "handles, labels = plt.gca().get_legend_handles_labels()\n",
    "# specify order of items in legend\n",
    "order = [2,1,0]\n",
    "# add legend to plot\n",
    "axs.legend([handles[idx] for idx in order], [labels[idx] for idx in order])\n",
    "\n",
    "# savefig(\"transloc_path_distribution_lowvoltage.pdf\")"
   ]
  }
 ],
 "metadata": {
  "kernelspec": {
   "display_name": "Python 3",
   "language": "python",
   "name": "python3"
  },
  "language_info": {
   "codemirror_mode": {
    "name": "ipython",
    "version": 3
   },
   "file_extension": ".py",
   "mimetype": "text/x-python",
   "name": "python",
   "nbconvert_exporter": "python",
   "pygments_lexer": "ipython3",
   "version": "3.8.10"
  },
  "toc-autonumbering": true
 },
 "nbformat": 4,
 "nbformat_minor": 5
}
