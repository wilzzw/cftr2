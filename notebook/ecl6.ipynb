{
 "cells": [
  {
   "cell_type": "code",
   "execution_count": null,
   "id": "6de3efe6-bd3f-48e1-8e63-92a692991e1a",
   "metadata": {},
   "outputs": [],
   "source": [
    "import numpy as np\n",
    "import pandas as pd\n",
    "import matplotlib.pyplot as plt\n",
    "from adjustText import adjust_text\n",
    "\n",
    "from compEL.iv import discrete_iv\n",
    "from plot.plot_utilities import hist1d, hist2d, edgeformat\n",
    "from database.query import get_trajid, get_trajattr"
   ]
  },
  {
   "cell_type": "code",
   "execution_count": null,
   "id": "9d0bfe12-1dc1-45c9-944a-2ccd6fef25a3",
   "metadata": {},
   "outputs": [],
   "source": [
    "%store -r traj_ids\n",
    "voltages = np.sort(np.unique(get_trajattr(traj_ids, 'voltage').values))\n",
    "\n",
    "%store -r e1124sc\n",
    "%store -r e1126sc\n",
    "%store -r r334sc\n",
    "%store -r states_df\n",
    "\n",
    "metrics_df = states_df.copy()\n",
    "metrics_df = pd.merge(metrics_df, r334sc[['traj_id', 'timestep', 'x', 'y', 'z']], on=['traj_id', 'timestep'])\n",
    "metrics_df.rename(columns={'x': 'sc_x_334', 'y': 'sc_y_334', 'z': 'sc_z_334'}, inplace=True)\n",
    "metrics_df = pd.merge(metrics_df, e1124sc[['traj_id', 'timestep', 'x', 'y', 'z']], on=['traj_id', 'timestep'])\n",
    "metrics_df.rename(columns={'x': 'sc_x_1124', 'y': 'sc_y_1124', 'z': 'sc_z_1124'}, inplace=True)\n",
    "metrics_df = pd.merge(metrics_df, e1126sc[['traj_id', 'timestep', 'x', 'y', 'z']], on=['traj_id', 'timestep'])\n",
    "metrics_df.rename(columns={'x': 'sc_x_1126', 'y': 'sc_y_1126', 'z': 'sc_z_1126'}, inplace=True)\n",
    "\n",
    "metrics_df = metrics_df.query(\"tmpc1v2 == 3\")"
   ]
  },
  {
   "cell_type": "markdown",
   "id": "261e3e05",
   "metadata": {
    "jp-MarkdownHeadingCollapsed": true,
    "tags": []
   },
   "source": [
    "# Salt bridge between R334 and ECL-6 GLU"
   ]
  },
  {
   "cell_type": "code",
   "execution_count": null,
   "id": "c586988a-f940-4997-887b-96a9b569098e",
   "metadata": {},
   "outputs": [],
   "source": [
    "# Distance between sidechain centers\n",
    "d334_1124 = metrics_df[['sc_x_334', 'sc_y_334', 'sc_z_334']].values - metrics_df[['sc_x_1124', 'sc_y_1124', 'sc_z_1124']].values\n",
    "d334_1124 = np.linalg.norm(d334_1124, axis=1)\n",
    "metrics_df['d334_1124'] = d334_1124\n",
    "\n",
    "d334_1126 = metrics_df[['sc_x_334', 'sc_y_334', 'sc_z_334']].values - metrics_df[['sc_x_1126', 'sc_y_1126', 'sc_z_1126']].values\n",
    "d334_1126 = np.linalg.norm(d334_1126, axis=1)\n",
    "metrics_df['d334_1126'] = d334_1126"
   ]
  },
  {
   "cell_type": "code",
   "execution_count": null,
   "id": "8da4de5e-ab69-4b83-835e-17a42015cea8",
   "metadata": {},
   "outputs": [],
   "source": [
    "fig, axs = plt.subplots()\n",
    "\n",
    "hist2d(d334_1124, d334_1126, bins=50, range=[[0,30],[0,30]]).dens2d_preset2(axs, lw=0.3, nlevels=15, no_last_contour_line=False)\n",
    "\n",
    "axs.set_xlabel('d334_1124')\n",
    "axs.set_ylabel('d334_1126')"
   ]
  },
  {
   "cell_type": "code",
   "execution_count": null,
   "id": "572d1971",
   "metadata": {
    "tags": []
   },
   "outputs": [],
   "source": [
    "# Versus GLU states\n",
    "fig, axs1 = plt.subplots(2, 1, sharex=True)\n",
    "for ax in axs1:\n",
    "    edgeformat(ax)\n",
    "\n",
    "fig, axs = plt.subplots(1, 2, figsize=(8,4))\n",
    "\n",
    "loop_dict = {0: \"loop-out\", 1: \"loop-in\"}\n",
    "\n",
    "for s in [0,1]:\n",
    "    sidechain_select = (metrics_df['e1126'] == s).values\n",
    "\n",
    "    hist2d(d334_1124[sidechain_select], d334_1126[sidechain_select], bins=30, range=[[0,30],[0,30]]).dens2d_preset2(axs[s], lw=0.3, nlevels=15, no_last_contour_line=False)\n",
    "    hist_minor = hist1d(d334_1124[sidechain_select], bins=60, range=[0,30])\n",
    "    hist_minor.plot(axs1[0], lw=2, label=f\"{loop_dict[s]}; %salt-bridge = {round(hist_minor.integral_dens(0,5.5),2)}\")\n",
    "    \n",
    "    hist_major = hist1d(d334_1126[sidechain_select], bins=60, range=[0,30])\n",
    "    hist_major.plot(axs1[1], lw=2, label=f\"{loop_dict[s]}; %salt-bridge = {round(hist_major.integral_dens(0,5.5),2)}\")\n",
    "\n",
    "    axs[s].set_xlabel('d334_1124')\n",
    "    axs[s].set_ylabel('d334_1126')\n",
    "\n",
    "for ax in axs1:\n",
    "    ax.legend()\n",
    "    # ax.set_xlim(0,10)"
   ]
  },
  {
   "cell_type": "markdown",
   "id": "05bf9887",
   "metadata": {},
   "source": [
    "# R334 vs ECL-6 glu states"
   ]
  },
  {
   "cell_type": "code",
   "execution_count": null,
   "id": "8be359b7-97bc-4f8b-bf8b-f1f1a4c02099",
   "metadata": {},
   "outputs": [],
   "source": [
    "fig, axs = plt.subplots(2, 3, figsize=(10,6), height_ratios=[1,2], width_ratios=[2,2,1], gridspec_kw={'wspace': 0, 'hspace': 0}, sharex='col', sharey='row')\n",
    "\n",
    "# fig, axs0 = plt.subplots()\n",
    "# axs0.grid(True)\n",
    "\n",
    "for ax in axs.flatten():\n",
    "    edgeformat(ax)\n",
    "\n",
    "df = metrics_df\n",
    "\n",
    "hist1d(df['sc_z_334'], bins=50, range=[125,150]).plot(axs[0,0], lw=2)\n",
    "axs[0,0].set_xlim(128,148)\n",
    "axs[0,0].set_ylim(0,0.25)\n",
    "\n",
    "hist1d(df['sc_z_1124'], bins=50, range=[130,155]).plot(axs[0,1], lw=2)\n",
    "axs[0,1].set_xlim(128,153)\n",
    "axs[0,1].set_ylim(0,0.25)\n",
    "\n",
    "hist1d(df['sc_z_1126'], bins=50, range=[130,150]).plot_v(axs[1,2], lw=2)\n",
    "axs[1,2].set_xlim(0,0.25)\n",
    "\n",
    "\n",
    "hist = hist2d(metrics_df['sc_z_334'], metrics_df['sc_z_1126'], bins=40, range=[[125,150],[125,150]])\n",
    "hist.dens2d_preset2(axs[1,0], lw=0.5, nlevels=10, no_last_contour_line=False, set_aspect=False)\n",
    "axs[1,0].set_ylim(128,153)\n",
    "\n",
    "hist = hist2d(metrics_df['sc_z_1124'], metrics_df['sc_z_1126'], bins=40, range=[[125,155],[125,150]])\n",
    "hist.dens2d_preset2(axs[1,1], lw=0.5, nlevels=15, no_last_contour_line=False, set_aspect=False)\n",
    "axs[1,1].set_ylim(128,153)\n",
    "\n",
    "\n",
    "axs[1,0].set_aspect('auto')\n",
    "axs[1,0].set_xlabel(r'$z$(R334-C$\\zeta$) [$\\mathrm{\\AA}$]', fontsize=16)\n",
    "axs[1,0].set_ylabel(r'$z$(E1126-C$\\delta$) [$\\mathrm{\\AA}$]', fontsize=16)\n",
    "axs[1,1].set_xlabel(r'$z$(E1124-C$\\delta$) [$\\mathrm{\\AA}$]', fontsize=16)\n",
    "\n",
    "\n",
    "axs[1,0].set_xticks(np.arange(130,145+5,5))\n",
    "axs[1,0].set_xticklabels(np.arange(130,145+5,5)-130, fontsize=14)\n",
    "axs[1,0].set_yticks(np.arange(130,150+5,5))\n",
    "axs[1,0].set_yticklabels(np.arange(130,150+5,5)-130, fontsize=14)\n",
    "\n",
    "axs[1,1].set_xticks(np.arange(130,150+5,5))\n",
    "axs[1,1].set_xticklabels(np.arange(130,150+5,5)-130, fontsize=14)\n",
    "\n",
    "# savefig(\"sidechain_sampling.pdf\")"
   ]
  },
  {
   "cell_type": "code",
   "execution_count": null,
   "id": "3312366d",
   "metadata": {},
   "outputs": [],
   "source": [
    "# Working\n",
    "percent_down_out = []\n",
    "percent_e1124_out = []\n",
    "\n",
    "# No data for the last voltage (E=+0.032)\n",
    "for v in voltages[:-1]:\n",
    "    trajs = get_trajid(voltage=v)\n",
    "    df = metrics_df.query(\"traj_id in @trajs\").copy()\n",
    "\n",
    "    r334_states = (df['sc_z_334'] < 137).astype(int)\n",
    "    df['r334'] = r334_states\n",
    "    e1126_states = (df['sc_z_1126'] > 139).astype(int)\n",
    "    df['e1126'] = e1126_states\n",
    "    e1124_states = (df['sc_z_1124'] > 140).astype(int)\n",
    "    df['e1124'] = e1124_states\n",
    "\n",
    "    down_out_fraction = pd.crosstab(df['r334'], df['e1126'], normalize=True).loc[1,1]\n",
    "    percent_down_out.append(down_out_fraction)\n",
    "    ddf = df.query(\"r334 == 1 & e1126 == 1\")\n",
    "    e1124_out_fraction = ddf['e1124'].value_counts(normalize=True)[1]\n",
    "    percent_e1124_out.append(e1124_out_fraction)\n",
    "    \n",
    "percent_down_bothout = np.array(percent_down_out)*np.array(percent_e1124_out)"
   ]
  },
  {
   "cell_type": "markdown",
   "id": "795027a8-7407-4996-96fe-b43ed2d6ca3c",
   "metadata": {},
   "source": [
    "# IV-analysis"
   ]
  },
  {
   "cell_type": "code",
   "execution_count": null,
   "id": "86853627-f4f4-4389-bd4f-0b533a6fa3d6",
   "metadata": {},
   "outputs": [],
   "source": [
    "states_df['loopglu'] = -1\n",
    "open_state_index = states_df.query('tmpc1v2 == 3').index.values\n",
    "states_df.loc[open_state_index, 'loopglu'] = (states_df.loc[open_state_index, 'e1126'] & states_df.loc[open_state_index, 'e1124']).values\n",
    "\n",
    "# states_df['r334i'] = states_df['r334_3d'].isin([2,4]).astype(int)\n",
    "states_df"
   ]
  },
  {
   "cell_type": "code",
   "execution_count": null,
   "id": "faff185b",
   "metadata": {},
   "outputs": [],
   "source": [
    "iv_main = discrete_iv(traj_ids)\n",
    "iv_main.prepare(states_df)\n",
    "iv_main.compile_iv(breakdown_by='loopglu', breakdown_labels=[0,1], restraint_string='tmpc1v2 == 3 & r334 == 1')\n",
    "\n",
    "fig, axs = plt.subplots(figsize=(6,6))\n",
    "iv_main.ivplot_preset1(axs)\n",
    "iv_main.ivplot(axs, state_labels_values={0: 'Glu in', 1: 'Glu out'}, color_dict={0: 'blue', 1: 'red'})\n",
    "axs.legend(loc=0, fontsize=16)\n",
    "# savefig(\"iv_byloop.pdf\")\n",
    "\n",
    "fig, axs = plt.subplots(figsize=(6,6))\n",
    "iv_main.ivplot_preset2(axs)\n",
    "iv_main.ivplot(axs, state_labels_values={0: 'loop-in', 1: 'loop-out'}, color_dict={0: 'blue', 1: 'red'}, states2fit=[0,1])\n",
    "axs.set_xticks(np.linspace(-120,120,5))\n",
    "axs.set_xticklabels(np.round(np.linspace(-120,120,5), 1).astype(int), fontsize=20)\n",
    "axs.set_yticks(np.linspace(-1.2e-12,1.2e-12,5))\n",
    "axs.set_yticklabels(np.round(np.linspace(-1.2e-12,1.2e-12,5)*1e12, 1), fontsize=20)\n",
    "# savefig(\"iv_byloop_zoomed_inset.pdf\")"
   ]
  },
  {
   "cell_type": "code",
   "execution_count": null,
   "id": "33a8314d-d05c-49b5-b96d-e41c9acc540b",
   "metadata": {},
   "outputs": [],
   "source": [
    "def quotient_error(a, b, s_a, s_b):\n",
    "    return np.sqrt((s_a/a)**2 + (s_b/b)**2) * np.abs(a/b)"
   ]
  },
  {
   "cell_type": "code",
   "execution_count": null,
   "id": "050531ff-7226-4cc8-a8ed-26366c611f22",
   "metadata": {},
   "outputs": [],
   "source": [
    "fig, axs = plt.subplots()\n",
    "edgeformat(axs)\n",
    "\n",
    "iv_main = discrete_iv(traj_ids)\n",
    "iv_main.prepare(states_df)\n",
    "iv_main.compile_iv(breakdown_by='tmpc1v2', breakdown_labels=[3], restraint_string='tmpc1v2 == 3')\n",
    "\n",
    "iv_vals = iv_main.iv_vals.query('state_label == 3')\n",
    "\n",
    "iv_vals['g'] = iv_vals['Iz'] / iv_vals['V']\n",
    "iv_vals['g_err'] = quotient_error(iv_vals['Iz'], iv_vals['V'], iv_vals['Iz_err'], iv_vals['V_err']).values\n",
    "\n",
    "# TODO: clunky implementation\n",
    "# No data for the last voltage (E=+0.032)\n",
    "voltages_select = np.argwhere(voltages < 0.032).flatten()\n",
    "iv_vals = iv_vals.iloc[voltages_select]\n",
    "\n",
    "\n",
    "# colors = iv_vals['V']\n",
    "colors = (iv_vals['V'] > 0)\n",
    "axs.scatter(iv_vals['g']*1e3*1e12, \n",
    "            percent_down_bothout, c=colors, edgecolor='black', linewidth=0.5)\n",
    "axs.errorbar(iv_vals['g']*1e3*1e12, percent_down_bothout, xerr=iv_vals['g_err']*1e3*1e12, lw=0.5, capsize=6, capthick=0.5, ecolor='black', fmt='none', zorder=0)\n",
    "\n",
    "texts = []\n",
    "for row, frac in zip(iv_vals.iterrows(), percent_down_bothout):\n",
    "    _, row = row\n",
    "    texts.append(axs.text(row['g']*1e3*1e12, frac, int(round(row['V'], -1)), fontsize=10))\n",
    "adjust_text(texts)\n",
    "\n",
    "xrange = [-2,15] \n",
    "yrange = [0,0.5]\n",
    "    \n",
    "axs.set_xlabel(r\"$g$ [pS]\", fontsize=16)\n",
    "axs.set_ylabel(r\"$f_{\\mathrm{down-out-out}}$\", fontsize=16)\n",
    "axs.set_xlim(*xrange)\n",
    "axs.set_ylim(*yrange)\n",
    "\n",
    "# # Make the plot appear as square\n",
    "axs.set_aspect(np.diff(xrange)[0]/np.diff(yrange)[0])\n",
    "axs.grid(True, ls='--')\n",
    "\n",
    "# savefig(\"conductance_vs_fraction_state.pdf\")"
   ]
  }
 ],
 "metadata": {
  "kernelspec": {
   "display_name": "Python 3",
   "language": "python",
   "name": "python3"
  },
  "language_info": {
   "codemirror_mode": {
    "name": "ipython",
    "version": 3
   },
   "file_extension": ".py",
   "mimetype": "text/x-python",
   "name": "python",
   "nbconvert_exporter": "python",
   "pygments_lexer": "ipython3",
   "version": "3.8.10"
  },
  "toc-autonumbering": true
 },
 "nbformat": 4,
 "nbformat_minor": 5
}
