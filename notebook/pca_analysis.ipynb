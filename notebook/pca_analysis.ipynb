{
 "cells": [
  {
   "cell_type": "code",
   "execution_count": null,
   "id": "38720308",
   "metadata": {},
   "outputs": [],
   "source": [
    "import numpy as np\n",
    "import mdtraj as md\n",
    "import matplotlib.pyplot as plt\n",
    "\n",
    "from pca.pcaIO import load_pca\n",
    "from database.query import get_protdef\n",
    "from utils.output_namespace import aligned_pdbfile, init_gro\n",
    "from plot.plot_utilities import hist2d, edgeformat"
   ]
  },
  {
   "cell_type": "markdown",
   "id": "09a0f3da",
   "metadata": {},
   "source": [
    "# Load the PC values computed and stored"
   ]
  },
  {
   "cell_type": "code",
   "execution_count": null,
   "id": "21553a34",
   "metadata": {},
   "outputs": [],
   "source": [
    "pca_data = load_pca('6msm_tmpc/all_tmpc.stride1.realign')\n",
    "pca_df = pca_data.pca_df(n_pcs=2)\n",
    "xyzcenter = pca_data.xyz_center\n",
    "eigenvec = pca_data.eigenvec\n",
    "atomselect = pca_data.atomselect\n",
    "atomstride = pca_data.atomstride\n",
    "\n",
    "%store pca_df\n",
    "pca_df"
   ]
  },
  {
   "cell_type": "code",
   "execution_count": null,
   "id": "f4e2ad13",
   "metadata": {},
   "outputs": [],
   "source": [
    "domain_dict = get_protdef(1)\n",
    "tm_helices = [f'TM{n}' for n in range(1,12+1)]\n",
    "\n",
    "pdbstruc = md.load(aligned_pdbfile('6msm'))\n",
    "pdbstruc = md.load(init_gro(1))\n",
    "tmselect = pdbstruc.top.select(atomselect)[::atomstride]\n",
    "pdb_tmxyz = pdbstruc.xyz[0,tmselect,:].flatten()\n",
    "    \n",
    "pdb_tmproject = np.dot(eigenvec[:2,:], (pdb_tmxyz*10 - xyzcenter))"
   ]
  },
  {
   "cell_type": "markdown",
   "id": "93305511",
   "metadata": {},
   "source": [
    "# Plot (PC1,PC2)"
   ]
  },
  {
   "cell_type": "code",
   "execution_count": null,
   "id": "f30f1331",
   "metadata": {},
   "outputs": [],
   "source": [
    "# Quick contour view\n",
    "fig, axs = plt.subplots()\n",
    "\n",
    "xrange = [-60,60]\n",
    "yrange = [-50,50]\n",
    "\n",
    "hist = hist2d(*pca_df[['pc1', 'pc2']].values.T, bins=60, range=[xrange, yrange])\n",
    "cbar = hist.dens2d_preset2(axs, nlevels=10, cbar_show=True, level_multiplier_exponent=5, lw=0.3)\n",
    "axs.set_aspect('equal', adjustable='box', anchor='C')\n",
    "axs.set_xlabel(r\"PC1 [$\\mathrm{\\AA}$]\", fontsize=16)\n",
    "axs.set_ylabel(r\"PC2 [$\\mathrm{\\AA}$]\", fontsize=16)\n",
    "axs.set_xlim(*xrange)\n",
    "axs.set_ylim(*yrange)\n",
    "axs.grid(True, linestyle='--')\n",
    "\n",
    "axs.scatter([pdb_tmproject[0]], [pdb_tmproject[1]], marker='x', color='blue', s=100)\n",
    "\n",
    "cbar.ax.set_yticklabels(np.round(cbar.get_ticks() / np.max(cbar.get_ticks()), decimals=1)*10, size=12)\n",
    "cbar.ax.set_ylabel('prob. density [A.U.]', fontsize=16)\n",
    "\n",
    "# savefig('updated_pca_contour.pdf')"
   ]
  },
  {
   "cell_type": "markdown",
   "id": "72672252",
   "metadata": {},
   "source": [
    "# Make porcupine plot"
   ]
  },
  {
   "cell_type": "code",
   "execution_count": null,
   "id": "49862f67-aae9-4402-9c5e-07f070912e66",
   "metadata": {},
   "outputs": [],
   "source": [
    "def porcupine(xyz2drawfrom, eigenvec, scale=20, script='porcupine.tcl'):\n",
    "    # Reshape eigenvec to (n_atoms, 3)\n",
    "    vectors2draw = eigenvec.reshape(len(eigenvec)//3, 3)\n",
    "    xyz2drawto = xyz2drawfrom + vectors2draw * scale\n",
    "    \n",
    "    # Write the porcupine plot drawing script for VMD\n",
    "    with open(script, \"w\") as file:\n",
    "        for begin, end in zip(xyz2drawfrom, xyz2drawto):\n",
    "            file.write(f\"graphics top cone {{{' '.join(map(str, begin))}}} {{{' '.join(map(str, end))}}} radius [expr 0.2 * 1.7] resolution 10\\n\")"
   ]
  },
  {
   "cell_type": "markdown",
   "id": "cd3d5995-1d32-450e-bd8a-5183f777ec8b",
   "metadata": {},
   "source": [
    "# PCA of all TM-helices: atomstride=1; demo"
   ]
  },
  {
   "cell_type": "code",
   "execution_count": null,
   "id": "10f31c0a",
   "metadata": {},
   "outputs": [],
   "source": [
    "from pca.pca_analysis_workflow import analyze_pca"
   ]
  },
  {
   "cell_type": "code",
   "execution_count": null,
   "id": "7c1bfddc-6b42-4d15-a7c6-36a788525866",
   "metadata": {},
   "outputs": [],
   "source": [
    "%store -r traj_ids\n",
    "\n",
    "name = 'alltm_CApc'\n",
    "datadir = '6msm_tmpc/all_tmpc.stride1.realign'\n",
    "n_pcs = 2\n",
    "\n",
    "N = 4\n",
    "xrange = [-70,70]\n",
    "yrange = [-55,55]\n",
    "\n",
    "main = analyze_pca(datadir, n_pcs, traj_ids)\n",
    "\n",
    "fig, axs = plt.subplots(1, 2, figsize=(12,4), sharey=True, gridspec_kw={'wspace': 0.15})\n",
    "\n",
    "for ax in axs:\n",
    "    edgeformat(ax)\n",
    "\n",
    "main.pca_data.plot_explained_variance(axs[0])\n",
    "main.pca_data.plot_cumulative_variance(axs[1])\n",
    "# _ = main.variance_plots()\n",
    "# savefig(\"pca_variance.pdf\")\n",
    "\n",
    "_ = main.state_clustering(N, xrange, yrange)\n"
   ]
  }
 ],
 "metadata": {
  "kernelspec": {
   "display_name": "Python 3",
   "language": "python",
   "name": "python3"
  },
  "language_info": {
   "codemirror_mode": {
    "name": "ipython",
    "version": 3
   },
   "file_extension": ".py",
   "mimetype": "text/x-python",
   "name": "python",
   "nbconvert_exporter": "python",
   "pygments_lexer": "ipython3",
   "version": "3.8.10"
  },
  "toc-autonumbering": true
 },
 "nbformat": 4,
 "nbformat_minor": 5
}
