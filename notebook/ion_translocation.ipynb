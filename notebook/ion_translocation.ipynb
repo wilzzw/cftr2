{
 "cells": [
  {
   "cell_type": "code",
   "execution_count": null,
   "metadata": {},
   "outputs": [],
   "source": [
    "import matplotlib.pyplot as plt\n",
    "import numpy as np\n",
    "\n",
    "from channel.translocate import IonTranslocation"
   ]
  },
  {
   "cell_type": "code",
   "execution_count": null,
   "metadata": {},
   "outputs": [],
   "source": [
    "traj_ids_demo = np.arange(10,20)+1"
   ]
  },
  {
   "cell_type": "code",
   "execution_count": null,
   "metadata": {
    "collapsed": true,
    "jupyter": {
     "outputs_hidden": true
    },
    "tags": []
   },
   "outputs": [],
   "source": [
    "for traj_id in traj_ids_demo:\n",
    "    print(traj_id)\n",
    "\n",
    "    try:\n",
    "        cla = IonTranslocation(traj_id)\n",
    "    except:\n",
    "        continue\n",
    "\n",
    "    cla.prep()\n",
    "\n",
    "    translocs = cla.init_translocs(transloc_from_db=False)\n",
    "\n",
    "    fig, axs = plt.subplots(figsize=[12.8, 3.6])\n",
    "    cla.plot_translocs(axs, mark_transloc=True)\n",
    "\n",
    "    ## Update db after ion translocation detection\n",
    "    # cla.update_db()\n",
    "    # cla.update_direction()\n",
    "    \n",
    "    # savefig(f\"{traj_id}_ion_translocation.pdf\")"
   ]
  }
 ],
 "metadata": {
  "kernelspec": {
   "display_name": "Python 3",
   "language": "python",
   "name": "python3"
  },
  "language_info": {
   "codemirror_mode": {
    "name": "ipython",
    "version": 3
   },
   "file_extension": ".py",
   "mimetype": "text/x-python",
   "name": "python",
   "nbconvert_exporter": "python",
   "pygments_lexer": "ipython3",
   "version": "3.8.10"
  }
 },
 "nbformat": 4,
 "nbformat_minor": 4
}
