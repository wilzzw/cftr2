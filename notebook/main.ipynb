{
 "cells": [
  {
   "cell_type": "code",
   "execution_count": null,
   "id": "3cc79db1",
   "metadata": {},
   "outputs": [],
   "source": [
    "import numpy as np\n",
    "import pandas as pd\n",
    "import matplotlib.pyplot as plt\n",
    "\n",
    "from database.query import traj_group\n",
    "from clustering.substate_clusters import substates\n",
    "from plot.plot_utilities import edgeformat, hist1d, hist2d, savefig"
   ]
  },
  {
   "cell_type": "code",
   "execution_count": null,
   "id": "f89b37f0",
   "metadata": {},
   "outputs": [],
   "source": [
    "# Input traj_ids\n",
    "traj_ids = traj_group(3)\n",
    "%store traj_ids\n",
    "\n",
    "traj_ids_closed = traj_group(2)\n",
    "%store traj_ids_closed"
   ]
  },
  {
   "cell_type": "markdown",
   "id": "0dd5d6c6",
   "metadata": {
    "tags": []
   },
   "source": [
    "# TM helix positions at the extracellular end"
   ]
  },
  {
   "cell_type": "code",
   "execution_count": null,
   "id": "28db480b",
   "metadata": {
    "tags": []
   },
   "outputs": [],
   "source": [
    "from conf.tmhelix import helix_positions, outer_leaflet_defs\n",
    "\n",
    "helixnums = [1, 2, 6, 8, 11, 12]\n",
    "\n",
    "# Create an instance of helical distance calculations\n",
    "helix_dist = helix_positions(traj_ids, helixnums, leveldefs=outer_leaflet_defs)\n",
    "\n",
    "# Calculate inter-residue distances\n",
    "helix_dist.hdist_level()"
   ]
  },
  {
   "cell_type": "markdown",
   "id": "f3c0cdd9",
   "metadata": {},
   "source": [
    "## xy-coordinates of TM1 and TM11 and cluster analysis"
   ]
  },
  {
   "cell_type": "code",
   "execution_count": null,
   "id": "f5d9501f",
   "metadata": {
    "tags": []
   },
   "outputs": [],
   "source": [
    "tm1xy = helix_dist.helix_com.query('helix == 1')[['x', 'y']].values\n",
    "tm2xy = helix_dist.helix_com.query('helix == 2')[['x', 'y']].values\n",
    "tm11xy = helix_dist.helix_com.query('helix == 11')[['x', 'y']].values"
   ]
  },
  {
   "cell_type": "markdown",
   "id": "eceff2a7",
   "metadata": {},
   "source": [
    "### TM1-xy: 2 clusters"
   ]
  },
  {
   "cell_type": "code",
   "execution_count": null,
   "id": "4f02b8c2",
   "metadata": {},
   "outputs": [],
   "source": [
    "N = 2\n",
    "clusters = substates(N, *tm1xy.T)\n",
    "# GM does a bit bett\n",
    "clusters.gaussian_mixture()\n",
    "\n",
    "tm1xy_clusters = clusters.states"
   ]
  },
  {
   "cell_type": "code",
   "execution_count": null,
   "id": "30d88f92",
   "metadata": {},
   "outputs": [],
   "source": [
    "fig, axs = plt.subplots(1, 3, figsize=(10,5), sharey=True, gridspec_kw={'wspace': 0.1})\n",
    "\n",
    "# Raw breakdown\n",
    "axs[0].scatter(*tm1xy.T, c=tm1xy_clusters, s=2)\n",
    "axs[0].scatter(*clusters.centers.T, marker='x', color='red')\n",
    "\n",
    "for i, mu in enumerate(clusters.centers):\n",
    "    axs[0].annotate(i, mu, color='red', fontsize=12)\n",
    "    \n",
    "# Quick contour view\n",
    "hist2d(*tm1xy.T, bins=50, range=[[0,30], [50,70]]).hist2d_contour(axs[2])\n",
    "\n",
    "# Formatting axes\n",
    "for ax in axs.flatten():\n",
    "    edgeformat(ax)\n",
    "    ax.set_aspect('equal', adjustable='box', anchor='C')\n",
    "    ax.set_xlim(10,30)\n",
    "    ax.set_ylim(50,70)\n",
    "    ax.grid(True, linestyle='--')"
   ]
  },
  {
   "cell_type": "markdown",
   "id": "3e002898",
   "metadata": {},
   "source": [
    "### TM11-xy: 2 clusters"
   ]
  },
  {
   "cell_type": "code",
   "execution_count": null,
   "id": "519f8869",
   "metadata": {},
   "outputs": [],
   "source": [
    "N = 2\n",
    "clusters = substates(N, *tm11xy.T)\n",
    "clusters.gaussian_mixture()\n",
    "\n",
    "tm11xy_clusters = clusters.states"
   ]
  },
  {
   "cell_type": "code",
   "execution_count": null,
   "id": "e7f0e40f",
   "metadata": {},
   "outputs": [],
   "source": [
    "fig, axs = plt.subplots(1, 3, figsize=(10,5), sharey=True, gridspec_kw={'wspace': 0.1})\n",
    "\n",
    "# Raw breakdown\n",
    "axs[0].scatter(*tm11xy.T, c=tm11xy_clusters, s=2)\n",
    "axs[0].scatter(*clusters.centers.T, marker='x', color='red')\n",
    "\n",
    "for i, mu in enumerate(clusters.centers):\n",
    "    axs[0].annotate(i, mu, color='red', fontsize=12)\n",
    "    \n",
    "# Quick contour view\n",
    "hist2d(*tm11xy.T, bins=50, range=[[0,20], [45,65]]).hist2d_contour(axs[2])\n",
    "\n",
    "# Formatting axes\n",
    "for ax in axs.flatten():\n",
    "    edgeformat(ax)\n",
    "    ax.set_aspect('equal', adjustable='box', anchor='C')\n",
    "    ax.set_xlim(0,20)\n",
    "    ax.set_ylim(45,65)\n",
    "    ax.grid(True, linestyle='--')"
   ]
  },
  {
   "cell_type": "markdown",
   "id": "b39b2764",
   "metadata": {
    "tags": []
   },
   "source": [
    "# HOLE2 profile"
   ]
  },
  {
   "cell_type": "code",
   "execution_count": null,
   "id": "f013ce62",
   "metadata": {},
   "outputs": [],
   "source": [
    "from utils.dataset import read_trajdata\n",
    "\n",
    "hole2_data, nframes_avail, traj_ids_avail = read_trajdata('hole2', traj_ids=traj_ids)\n",
    "\n",
    "hole2_df = pd.DataFrame()\n",
    "\n",
    "hole2_df['traj_id'] = np.repeat(traj_ids_avail, nframes_avail)\n",
    "hole2_df['timestep'] = np.hstack([np.arange(n) for n in nframes_avail])\n",
    "hole2_df[np.arange(90,150+1)] = hole2_data\n",
    "\n",
    "# Replace -1 with NaN\n",
    "hole2_df.replace(-1, np.nan, inplace=True)\n",
    "\n",
    "hole2_df = hole2_df.query('traj_id in @traj_ids')\n",
    "\n",
    "%store hole2_df\n",
    "hole2_df"
   ]
  },
  {
   "cell_type": "markdown",
   "id": "3a41b74a",
   "metadata": {
    "jp-MarkdownHeadingCollapsed": true,
    "tags": []
   },
   "source": [
    "# Translocations on record"
   ]
  },
  {
   "cell_type": "code",
   "execution_count": null,
   "id": "509afb18",
   "metadata": {
    "tags": []
   },
   "outputs": [],
   "source": [
    "from database.query import get_translocation\n",
    "\n",
    "transloc_df = pd.DataFrame(get_translocation(), columns=get_translocation()[0].keys())\n",
    "transloc_df['timestep'] = (transloc_df['timestep'] * transloc_df['stepsize'] / 1000).astype(int)\n",
    "transloc_df['stepsize'] = 1000\n",
    "\n",
    "transloc_df = transloc_df.query('traj_id in @traj_ids')\n",
    "\n",
    "%store transloc_df\n",
    "transloc_df"
   ]
  },
  {
   "cell_type": "markdown",
   "id": "7f8130a7-b3eb-4626-a65b-39b740fea4a1",
   "metadata": {},
   "source": [
    "# Sidechain positions"
   ]
  },
  {
   "cell_type": "code",
   "execution_count": null,
   "id": "4789a7a9-5856-4054-9d1b-6546dd19f8c0",
   "metadata": {},
   "outputs": [],
   "source": [
    "from conf.conf_analysis import sc_central"
   ]
  },
  {
   "cell_type": "markdown",
   "id": "911e70a9",
   "metadata": {
    "tags": []
   },
   "source": [
    "## R334"
   ]
  },
  {
   "cell_type": "code",
   "execution_count": null,
   "id": "5b06f0f2",
   "metadata": {
    "tags": []
   },
   "outputs": [],
   "source": [
    "scdat = sc_central(traj_ids, resids=334)\n",
    "scdat.load_sccinfo()\n",
    "r334sc = scdat.sc_coord_set\n",
    "\n",
    "fig, axs = plt.subplots()\n",
    "\n",
    "r334_hist = hist1d(r334sc['z'], bins=60, range=[130,145])\n",
    "r334_hist.plot(axs)\n",
    "\n",
    "%store r334sc"
   ]
  },
  {
   "cell_type": "markdown",
   "id": "84440376-c863-4183-a39e-540668a3363d",
   "metadata": {
    "tags": []
   },
   "source": [
    "## R134"
   ]
  },
  {
   "cell_type": "code",
   "execution_count": null,
   "id": "36f62c49-5e89-4b90-9be4-44e9c699a137",
   "metadata": {},
   "outputs": [],
   "source": [
    "scdat = sc_central(traj_ids, resids=134)\n",
    "scdat.load_sccinfo()\n",
    "r134sc = scdat.sc_coord_set\n",
    "\n",
    "fig, axs = plt.subplots()\n",
    "\n",
    "r134_hist = hist1d(r134sc['z'], bins=60, range=[110,120])\n",
    "r134_hist.plot(axs, color='darkgreen')"
   ]
  },
  {
   "cell_type": "markdown",
   "id": "e83c6da5-6cf5-4ce3-9cb0-fe42f8a27ea3",
   "metadata": {},
   "source": [
    "## E1124"
   ]
  },
  {
   "cell_type": "code",
   "execution_count": null,
   "id": "fb0202ab-d6b3-4e83-802b-63a7e2892145",
   "metadata": {},
   "outputs": [],
   "source": [
    "scdat = sc_central(traj_ids, resids=1124)\n",
    "scdat.load_sccinfo()\n",
    "e1124sc = scdat.sc_coord_set"
   ]
  },
  {
   "cell_type": "code",
   "execution_count": null,
   "id": "f8e873b4-8586-4719-84ef-6a9dc33bd4f8",
   "metadata": {},
   "outputs": [],
   "source": [
    "fig, axs = plt.subplots()\n",
    "\n",
    "e1124_hist = hist1d(e1124sc['z'], bins=60, range=[130,165])\n",
    "e1124_hist.plot(axs)\n",
    "\n",
    "%store e1124sc"
   ]
  },
  {
   "cell_type": "markdown",
   "id": "2be75da3-ca89-4482-a049-37b19307f788",
   "metadata": {},
   "source": [
    "## E1126"
   ]
  },
  {
   "cell_type": "code",
   "execution_count": null,
   "id": "f81d81e8-8f00-4c85-b914-399ba50687da",
   "metadata": {},
   "outputs": [],
   "source": [
    "scdat = sc_central(traj_ids, resids=1126)\n",
    "scdat.load_sccinfo()\n",
    "e1126sc = scdat.sc_coord_set"
   ]
  },
  {
   "cell_type": "code",
   "execution_count": null,
   "id": "f61bdb57-328c-4fea-8781-505f03882434",
   "metadata": {},
   "outputs": [],
   "source": [
    "fig, axs = plt.subplots()\n",
    "\n",
    "e1124_hist = hist1d(e1126sc['z'], bins=60, range=[130,165])\n",
    "e1124_hist.plot(axs)\n",
    "\n",
    "%store e1126sc"
   ]
  },
  {
   "cell_type": "markdown",
   "id": "55c1a91d",
   "metadata": {},
   "source": [
    "# PCA"
   ]
  },
  {
   "cell_type": "code",
   "execution_count": null,
   "id": "ca36c103",
   "metadata": {},
   "outputs": [],
   "source": [
    "from pca.pca_analysis_workflow import analyze_pca"
   ]
  },
  {
   "cell_type": "code",
   "execution_count": null,
   "id": "67fb4f3e",
   "metadata": {},
   "outputs": [],
   "source": [
    "name = 'tmpc1v2'\n",
    "datadir = '6msm_tmpc/all_tmpc.stride1.realign'\n",
    "n_pcs = 2\n",
    "\n",
    "N = 4\n",
    "xrange = [-70,70]\n",
    "yrange = [-70,70]\n",
    "\n",
    "main = analyze_pca(datadir, n_pcs, traj_ids)\n",
    "_ = main.variance_plots()\n",
    "_ = main.state_clustering(N, xrange, yrange)"
   ]
  },
  {
   "cell_type": "markdown",
   "id": "cb0dc9e8",
   "metadata": {},
   "source": [
    "# State assignments"
   ]
  },
  {
   "cell_type": "code",
   "execution_count": null,
   "id": "f2820c73",
   "metadata": {},
   "outputs": [],
   "source": [
    "states_df = pd.DataFrame()\n",
    "\n",
    "states_df[['traj_id', 'timestep']] = scdat.sc_coord_set[['traj_id', 'timestep']]\n",
    "states_df[name] = main.clusters.states\n",
    "\n",
    "states_df['r334'] = (r334sc['z'] < 136).astype(int)\n",
    "states_df['r134'] = (r134sc['z'] < 115).astype(int)\n",
    "states_df['e1124'] = (e1124sc['z'] > 140).astype(int)\n",
    "states_df['e1126'] = (e1126sc['z'] > 139).astype(int)\n",
    "\n",
    "%store states_df\n",
    "states_df"
   ]
  },
  {
   "cell_type": "markdown",
   "id": "6f42b787",
   "metadata": {},
   "source": [
    "# State labels and color scheme"
   ]
  },
  {
   "cell_type": "code",
   "execution_count": null,
   "id": "55b10a7e",
   "metadata": {},
   "outputs": [],
   "source": [
    "state_labels = [(0, r\"$\\beta$\", \"stray\", '#ff7f01'), \n",
    "                (1, r\"$\\delta$\", \"intermediate\", 'green'), \n",
    "                (2, r\"$\\gamma$\", \"closed\", '#0000ff'), \n",
    "                (3, r\"$\\alpha$\", \"open\", '#ff0000')]\n",
    "map_assign = {index: label for index, label, _, _ in state_labels}\n",
    "color_assign = {index: color for index, _, _, color in state_labels}\n",
    "\n",
    "%store map_assign\n",
    "%store color_assign"
   ]
  }
 ],
 "metadata": {
  "kernelspec": {
   "display_name": "Python 3",
   "language": "python",
   "name": "python3"
  },
  "language_info": {
   "codemirror_mode": {
    "name": "ipython",
    "version": 3
   },
   "file_extension": ".py",
   "mimetype": "text/x-python",
   "name": "python",
   "nbconvert_exporter": "python",
   "pygments_lexer": "ipython3",
   "version": "3.8.10"
  },
  "toc-autonumbering": true,
  "toc-showmarkdowntxt": false
 },
 "nbformat": 4,
 "nbformat_minor": 5
}
