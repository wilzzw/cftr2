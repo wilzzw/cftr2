{
 "cells": [
  {
   "cell_type": "code",
   "execution_count": null,
   "metadata": {
    "tags": []
   },
   "outputs": [],
   "source": [
    "import numpy as np\n",
    "import pandas as pd\n",
    "import matplotlib.pyplot as plt\n",
    "\n",
    "from pca.pca import prot_pca\n",
    "from pca.pcaIO import write_pca\n",
    "from database.query import traj_group, get_protdef\n",
    "from utils.atomselect import select_domains\n",
    "from plot.plot_utilities import hist2d, hist1d"
   ]
  },
  {
   "cell_type": "markdown",
   "metadata": {},
   "source": [
    "# Perform calculation"
   ]
  },
  {
   "cell_type": "code",
   "execution_count": null,
   "metadata": {
    "tags": []
   },
   "outputs": [],
   "source": [
    "atomstride = 1\n",
    "\n",
    "traj_ids = traj_group(3)\n",
    "\n",
    "domain_dict = get_protdef(1)\n",
    "domains_measure = [f'TM{n}' for n in np.arange(12)+1]\n",
    "\n",
    "atomselect_str = select_domains([domain_dict.get(tm) for tm in domains_measure], package='mdtraj') + \" and backbone\""
   ]
  },
  {
   "cell_type": "code",
   "execution_count": null,
   "metadata": {},
   "outputs": [],
   "source": [
    "main = prot_pca(traj_ids, atomselect=atomselect_str, atomstride=atomstride)\n",
    "\n",
    "tf = pd.DataFrame()\n",
    "tf['traj_id'] = np.repeat(main.traj_ids, [main.nframes[t] for t in main.traj_ids])\n",
    "tf['timestep'] = np.concatenate([np.arange(main.nframes[t]) for t in main.traj_ids])\n",
    "\n",
    "main.pca_init(tf=tf)\n",
    "# main.pca_init()\n",
    "xyzcenter = np.mean(main.pca.xyz_data, axis=0)"
   ]
  },
  {
   "cell_type": "markdown",
   "metadata": {},
   "source": [
    "# Visualize states on 2PC space"
   ]
  },
  {
   "cell_type": "code",
   "execution_count": null,
   "metadata": {
    "tags": []
   },
   "outputs": [],
   "source": [
    "comp1 = 0\n",
    "comp2 = 1\n",
    "\n",
    "xrange = [-100, 100]\n",
    "yrange = [-100, 100]\n",
    "\n",
    "nbins = 30\n",
    "\n",
    "fig, axs = plt.subplots()\n",
    "\n",
    "hist2d(main.pca.pca_output[:,comp1], main.pca.pca_output[:,comp2], range=[xrange, yrange], bins=nbins).hist2d_contour(axs)\n",
    "\n",
    "plt.xlim(*xrange)\n",
    "plt.ylim(*yrange)"
   ]
  },
  {
   "cell_type": "markdown",
   "metadata": {},
   "source": [
    "# Trajectory projected onto PC"
   ]
  },
  {
   "cell_type": "code",
   "execution_count": null,
   "metadata": {
    "tags": []
   },
   "outputs": [],
   "source": [
    "#Projection onto PCs\n",
    "comp = 1\n",
    "trajsel = [70]\n",
    "\n",
    "i = 0\n",
    "for t in trajsel:\n",
    "    plt.figure()\n",
    "    plt.plot(main.get_trajpc(t, comp), c='black')\n",
    "    plt.xlim(-10,1010)\n",
    "    # plt.ylim(-25,25)\n",
    "    plt.xlabel('Time [ns]')\n",
    "    plt.ylabel('Principal Component '+str(comp))\n",
    "    plt.grid(True)\n",
    "    plt.title(t)\n",
    "    i += 1"
   ]
  },
  {
   "cell_type": "markdown",
   "metadata": {},
   "source": [
    "# Residue SSW"
   ]
  },
  {
   "cell_type": "code",
   "execution_count": null,
   "metadata": {
    "tags": []
   },
   "outputs": [],
   "source": [
    "for comp in range(10):\n",
    "    fig, axs = plt.subplots()\n",
    "    hist1d(main.pca.pca_output[:,comp], bins=100, range=[80, 100]).plot(axs)"
   ]
  },
  {
   "cell_type": "code",
   "execution_count": null,
   "metadata": {
    "tags": []
   },
   "outputs": [],
   "source": [
    "for comp in np.arange(10)+1:\n",
    "    fig, axs = plt.subplots()\n",
    "    main.plot_residue_ssw(axs, comp, 'red')\n",
    "    plt.ylim(0,0.2)"
   ]
  },
  {
   "cell_type": "markdown",
   "metadata": {},
   "source": [
    "# Explained variance analysis"
   ]
  },
  {
   "cell_type": "code",
   "execution_count": null,
   "metadata": {
    "scrolled": true,
    "tags": []
   },
   "outputs": [],
   "source": [
    "for i in range(20):\n",
    "    print('pc_explained: '+str(main.pca.variances[i]))\n",
    "    print('cumul: '+str(np.cumsum(main.pca.variances)[i]))\n",
    "    \n",
    "fig, axs = plt.subplots()\n",
    "main.pca.plot_explained_variance(axs, 50)\n",
    "\n",
    "fig, axs = plt.subplots()\n",
    "main.pca.plot_cumulative_variance(axs, 50)"
   ]
  },
  {
   "cell_type": "markdown",
   "metadata": {},
   "source": [
    "# Write to h5"
   ]
  },
  {
   "cell_type": "code",
   "execution_count": null,
   "metadata": {},
   "outputs": [],
   "source": [
    "write_pca(main, '6msm_tmpc/all_tmpc.stride1.realign.240702', xyz_center=xyzcenter)\n",
    "# write_pca(main, '6msm_tmpc/all_tmpc.post100', xyz_center=xyzcenter)"
   ]
  }
 ],
 "metadata": {
  "kernelspec": {
   "display_name": "Python 3",
   "language": "python",
   "name": "python3"
  },
  "language_info": {
   "codemirror_mode": {
    "name": "ipython",
    "version": 3
   },
   "file_extension": ".py",
   "mimetype": "text/x-python",
   "name": "python",
   "nbconvert_exporter": "python",
   "pygments_lexer": "ipython3",
   "version": "3.8.10"
  }
 },
 "nbformat": 4,
 "nbformat_minor": 4
}
