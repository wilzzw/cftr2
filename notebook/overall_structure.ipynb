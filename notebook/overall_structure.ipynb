{
 "cells": [
  {
   "cell_type": "code",
   "execution_count": null,
   "metadata": {},
   "outputs": [],
   "source": [
    "# This was originally done on the cluster\n",
    "import numpy as np\n",
    "import matplotlib.pyplot as plt\n",
    "\n",
    "from conf.conf_analysis import xyzt\n",
    "from utils.atomselect import select_resids_str, combine_from_intervals\n",
    "from plot.plot_utilities import hist1d, edgeformat, savefig\n",
    "from database.query import traj2grotop, traj_group, get_protdef"
   ]
  },
  {
   "cell_type": "code",
   "execution_count": null,
   "metadata": {},
   "outputs": [],
   "source": [
    "traj_ids = traj_group(3)"
   ]
  },
  {
   "cell_type": "markdown",
   "metadata": {},
   "source": [
    "# RMSD from average structure"
   ]
  },
  {
   "cell_type": "code",
   "execution_count": null,
   "metadata": {},
   "outputs": [],
   "source": [
    "# Get domain intervals\n",
    "protein_domain_definitions = get_protdef(protein_id=1)\n",
    "tmd1 = protein_domain_definitions['TMD1']\n",
    "tmd2 = protein_domain_definitions['TMD2']\n",
    "tm_helices = [protein_domain_definitions[f'TM{n}'] for n in range(1,12+1)]"
   ]
  },
  {
   "cell_type": "code",
   "execution_count": null,
   "metadata": {},
   "outputs": [],
   "source": [
    "def rmsd(traj_xyzt, ref_xyz):\n",
    "    print(traj_xyzt.shape)\n",
    "    assert len(traj_xyzt.shape) == 3\n",
    "    assert len(ref_xyz.shape) == 2\n",
    "    assert traj_xyzt.shape[1] == ref_xyz.shape[0]\n",
    "    \n",
    "    return np.sqrt(np.sum((traj_xyzt - ref_xyz)**2, axis=(1,2)) / len(ref_xyz))\n",
    "\n",
    "def ca_displacement(traj_xyzt, ref_xyz):\n",
    "    print(traj_xyzt.shape)\n",
    "    assert len(traj_xyzt.shape) == 3\n",
    "    assert len(ref_xyz.shape) == 2\n",
    "    assert traj_xyzt.shape[1] == ref_xyz.shape[0]\n",
    "    \n",
    "    displacements = np.sqrt(np.sum((traj_xyzt - ref_xyz)**2, axis=2))\n",
    "    average_displacement = np.mean(displacements, axis=0)\n",
    "    std_displacement = np.std(displacements, axis=0, ddof=1)\n",
    "    \n",
    "    return average_displacement, std_displacement\n",
    "\n",
    "# To reference structure\n",
    "def ca_rmsf(traj_xyzt, ref_xyz):\n",
    "    print(traj_xyzt.shape)\n",
    "    assert len(traj_xyzt.shape) == 3\n",
    "    assert len(ref_xyz.shape) == 2\n",
    "    assert traj_xyzt.shape[1] == ref_xyz.shape[0]\n",
    "    \n",
    "    rmsf = np.sqrt(np.mean(np.sum((traj_xyzt - ref_xyz)**2, axis=2), axis=0))\n",
    "    \n",
    "    return rmsf\n",
    "\n",
    "class rmsd2average_structure(xyzt):\n",
    "    def __init__(self, traj_ids, selection_string, **kwargs):\n",
    "        super().__init__(traj_ids=traj_ids, **kwargs)\n",
    "        self.selection_string = selection_string\n",
    "        \n",
    "        self.load_refs()        \n",
    "        self.open_nc()\n",
    "        \n",
    "        # Get CA atom coordinates from all trajectories\n",
    "        xyz_collect = []\n",
    "        for t in self.traj_ids:\n",
    "            if t % 10 == 0:\n",
    "                print(t)\n",
    "            ca_index = self.refs[traj2grotop(t)].top.select(self.selection_string)\n",
    "            xyz = self.getcoords(t, ca_index, df=False)\n",
    "            xyz_collect.append(xyz)\n",
    "        xyz_collect = np.vstack(xyz_collect)\n",
    "        \n",
    "        self.average_xyz = np.mean(xyz_collect, axis=0)\n",
    "        self.rmsd = rmsd(xyz_collect, self.average_xyz)\n",
    "        \n",
    "class rmsd2custom_structure(xyzt):\n",
    "    def __init__(self, traj_ids, selection_string, ref_xyz, **kwargs):\n",
    "        super().__init__(traj_ids=traj_ids, **kwargs)\n",
    "        self.selection_string = selection_string\n",
    "        \n",
    "        self.load_refs()        \n",
    "        self.open_nc()\n",
    "        \n",
    "        # Get CA atom coordinates from all trajectories\n",
    "        xyz_collect = []\n",
    "        for t in self.traj_ids:\n",
    "            if t % 10 == 0:\n",
    "                print(t)\n",
    "            ca_index = self.refs[traj2grotop(t)].top.select(self.selection_string)\n",
    "            xyz = self.getcoords(t, ca_index, df=False)\n",
    "            xyz_collect.append(xyz)\n",
    "        xyz_collect = np.vstack(xyz_collect)\n",
    "        \n",
    "        self.ref_xyz = ref_xyz\n",
    "        self.rmsd = rmsd(xyz_collect, self.ref_xyz)"
   ]
  },
  {
   "cell_type": "code",
   "execution_count": null,
   "metadata": {
    "collapsed": true,
    "jupyter": {
     "outputs_hidden": true
    }
   },
   "outputs": [],
   "source": [
    "# TODO: add checks for whether the selection string is mdtraj or MDAnalysis\n",
    "selection_string = \"name CA\"\n",
    "selection_string += f\" and {select_resids_str(combine_from_intervals(tmd1, tmd2), 'mdtraj')}\"\n",
    "rmsd_tmdca = rmsd2average_structure(traj_ids, selection_string)"
   ]
  },
  {
   "cell_type": "code",
   "execution_count": null,
   "metadata": {},
   "outputs": [],
   "source": [
    "np.save(\"average_tmca.npy\", rmsd_tmdca.average_xyz.data)"
   ]
  },
  {
   "cell_type": "code",
   "execution_count": null,
   "metadata": {
    "collapsed": true,
    "jupyter": {
     "outputs_hidden": true
    }
   },
   "outputs": [],
   "source": [
    "# TODO: add checks for whether it's mdtraj or MDAnalysis\n",
    "selection_string = \"name CA\"\n",
    "rmsd_allca = rmsd2average_structure(traj_ids, selection_string)"
   ]
  },
  {
   "cell_type": "code",
   "execution_count": null,
   "metadata": {},
   "outputs": [],
   "source": [
    "np.save(\"average_allca.npy\", rmsd_allca.average_xyz.data)"
   ]
  },
  {
   "cell_type": "code",
   "execution_count": null,
   "metadata": {
    "collapsed": true,
    "jupyter": {
     "outputs_hidden": true
    }
   },
   "outputs": [],
   "source": [
    "# TODO: add checks for whether it's mdtraj or MDAnalysis\n",
    "selection_string = \"name CA\"\n",
    "selection_string += f\" and {select_resids_str(combine_from_intervals(*tm_helices), 'mdtraj')}\"\n",
    "rmsd_tmhelixca = rmsd2average_structure(traj_ids, selection_string)"
   ]
  },
  {
   "cell_type": "code",
   "execution_count": null,
   "metadata": {},
   "outputs": [],
   "source": [
    "np.save(\"average_tmhelixca.npy\", rmsd_tmhelixca.average_xyz.data)"
   ]
  },
  {
   "cell_type": "code",
   "execution_count": null,
   "metadata": {},
   "outputs": [],
   "source": [
    "fig, axs = plt.subplots()\n",
    "edgeformat(axs)\n",
    "\n",
    "hist1d(rmsd_allca.rmsd, range=[0,6], bins=60).plot(axs, label=f\"all ({round(np.mean(rmsd_allca.rmsd), 1)} \"+r\"$\\mathrm{\\AA}$)\")\n",
    "print(np.mean(rmsd_allca.rmsd), np.max(rmsd_allca.rmsd), np.min(rmsd_allca.rmsd))\n",
    "hist1d(rmsd_tmdca.rmsd, range=[0,6], bins=60).plot(axs, label=f\"TMDs ({round(np.mean(rmsd_tmdca.rmsd), 1)} \"+r\"$\\mathrm{\\AA}$)\")\n",
    "print(np.mean(rmsd_tmdca.rmsd), np.max(rmsd_tmdca.rmsd), np.min(rmsd_tmdca.rmsd))\n",
    "hist1d(rmsd_tmhelixca.rmsd, range=[0,6], bins=60).plot(axs, label=f\"TM helices ({round(np.mean(rmsd_tmhelixca.rmsd), 1)} \"+r\"$\\mathrm{\\AA}$)\")\n",
    "print(np.mean(rmsd_tmhelixca.rmsd), np.max(rmsd_tmhelixca.rmsd), np.min(rmsd_tmhelixca.rmsd))\n",
    "\n",
    "axs.legend()\n",
    "axs.set_xlim(0,5)\n",
    "axs.set_ylim(0,2.5)\n",
    "axs.grid(True, ls='--')\n",
    "\n",
    "axs.set_xlabel(r\"C$\\alpha$ RMSD [$\\mathrm{\\AA}$]\", fontsize=14)\n",
    "axs.set_ylabel(r\"Prob. Density [A.U.]\", fontsize=14)"
   ]
  }
 ],
 "metadata": {
  "kernelspec": {
   "display_name": "Python 3",
   "language": "python",
   "name": "python3"
  },
  "language_info": {
   "codemirror_mode": {
    "name": "ipython",
    "version": 3
   },
   "file_extension": ".py",
   "mimetype": "text/x-python",
   "name": "python",
   "nbconvert_exporter": "python",
   "pygments_lexer": "ipython3",
   "version": "3.8.10"
  }
 },
 "nbformat": 4,
 "nbformat_minor": 4
}
