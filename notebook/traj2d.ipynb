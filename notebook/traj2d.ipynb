{
 "cells": [
  {
   "cell_type": "code",
   "execution_count": null,
   "id": "9dc7c692-cc79-46d5-9145-6ab396a0f41b",
   "metadata": {},
   "outputs": [],
   "source": [
    "import numpy as np\n",
    "import pandas as pd\n",
    "import matplotlib.pyplot as plt\n",
    "from matplotlib.collections import LineCollection\n",
    "\n",
    "from clustering.substate_clusters import substates\n",
    "from plot.plot_utilities import edgeformat, hist2d, savefig\n",
    "from utils.core_utilities import overlapping_split"
   ]
  },
  {
   "cell_type": "markdown",
   "id": "4a321a50-2af0-4838-adb2-be2951a2e943",
   "metadata": {},
   "source": [
    "# Setup"
   ]
  },
  {
   "cell_type": "code",
   "execution_count": null,
   "id": "722f86a2",
   "metadata": {},
   "outputs": [],
   "source": [
    "%store -r states_df\n",
    "%store -r traj_ids"
   ]
  },
  {
   "cell_type": "code",
   "execution_count": null,
   "id": "1e59e808-af89-427f-b5cc-49b093220393",
   "metadata": {},
   "outputs": [],
   "source": [
    "# Which two distances to analyze/serve as analysis basis\n",
    "%store -r pca_df\n",
    "\n",
    "name_d1 = 'pc1'\n",
    "name_d2 = 'pc2'\n",
    "\n",
    "# datf = pd.DataFrame(tm11xy, columns=[name_d1, name_d2])\n",
    "datf = pca_df\n",
    "\n",
    "d1 = datf[name_d1]\n",
    "d2 = datf[name_d2]\n",
    "\n",
    "# Data range\n",
    "xrange = [-70,70]\n",
    "yrange = [-60,60]\n",
    "\n",
    "N = 4\n",
    "\n",
    "alldat = datf.iloc[:,2:].values"
   ]
  },
  {
   "cell_type": "markdown",
   "id": "5880d88e-c534-4346-b803-8209c402d6ba",
   "metadata": {},
   "source": [
    "## Plot specifications"
   ]
  },
  {
   "cell_type": "code",
   "execution_count": null,
   "id": "832edb05-1604-4f5e-b14a-0b5d18179e43",
   "metadata": {},
   "outputs": [],
   "source": [
    "def plotspec(axs):\n",
    "    axs.set_aspect('equal', adjustable='box', anchor='C')\n",
    "    axs.set_xlim(*xrange)\n",
    "    axs.set_ylim(*yrange)\n",
    "    axs.grid(True, linestyle='--')"
   ]
  },
  {
   "cell_type": "markdown",
   "id": "c7c59a07-00e4-4789-9909-7ff78a258eb9",
   "metadata": {},
   "source": [
    "## Preparatory calculations"
   ]
  },
  {
   "cell_type": "code",
   "execution_count": null,
   "id": "a1a721dd-cac3-4702-8cc4-d2943808e7d6",
   "metadata": {},
   "outputs": [],
   "source": [
    "# Substate clustering\n",
    "# states = substates(N, d1, d2)\n",
    "states = substates(N, *alldat.T)\n",
    "\n",
    "### Histogramming ###\n",
    "calc_dens = hist2d(d1, d2, bins=50, range=[xrange, yrange])\n",
    "dens = calc_dens.dens\n",
    "xedges = calc_dens.xplot_edges\n",
    "yedges = calc_dens.yplot_edges"
   ]
  },
  {
   "cell_type": "markdown",
   "id": "1c70ac57-fa29-437b-a6e4-4688920a4095",
   "metadata": {
    "tags": []
   },
   "source": [
    "# What do the trajectories look like on this slice of conformational space?"
   ]
  },
  {
   "cell_type": "markdown",
   "id": "0d7b2dca-6140-43fc-9105-42178a98bae4",
   "metadata": {},
   "source": [
    "## Where do translocations occur"
   ]
  },
  {
   "cell_type": "code",
   "execution_count": null,
   "id": "f6fdb76f",
   "metadata": {},
   "outputs": [],
   "source": [
    "%store -r transloc_df\n",
    "# trajectories with translocation events in the previous paper (Zeng, Linsdell, Pomes, 2023)\n",
    "traj2plot = [12, 15]"
   ]
  },
  {
   "cell_type": "code",
   "execution_count": null,
   "id": "6a3afab4-1125-4815-a08d-6b285b5494d6",
   "metadata": {},
   "outputs": [],
   "source": [
    "tf_translocate = transloc_df.query(\"traj_id in @traj2plot\")[['traj_id', 'timestep']]\n",
    "pca_translocate = pd.merge(pca_df, tf_translocate, on=['traj_id', 'timestep'])"
   ]
  },
  {
   "cell_type": "code",
   "execution_count": null,
   "id": "2197c4f9",
   "metadata": {},
   "outputs": [],
   "source": [
    "# Added smoothing settings\n",
    "traj_stride = 1\n",
    "avg_window = 5\n",
    "\n",
    "for t in traj_ids:\n",
    "    if not t in traj2plot:\n",
    "        continue\n",
    "    traj_d1 = pca_df.query('traj_id == @t')[name_d1][::traj_stride]\n",
    "    traj_d2 = pca_df.query('traj_id == @t')[name_d2][::traj_stride]\n",
    "    traj_select = (pca_df['traj_id'] == t).values\n",
    "    \n",
    "    fig, axs = plt.subplots(1,3, figsize=(12,4), sharey=True, gridspec_kw={'wspace':0.1})\n",
    "    \n",
    "    prep_segments = overlapping_split(np.vstack([traj_d1, traj_d2]).T)\n",
    "    traj2d = LineCollection(prep_segments, linewidth=1, cmap=plt.cm.viridis)\n",
    "    traj2d.set_array(np.arange(len(prep_segments)))\n",
    "    \n",
    "    axs[0].add_collection(traj2d)\n",
    "    axs[0].scatter(traj_d1.iloc[0], traj_d2.iloc[0], s=4, marker='*', zorder=10, c='magenta')\n",
    "\n",
    "    axs[1].scatter(traj_d1, traj_d2, s=2, c='red')\n",
    "    axs[1].contour(xedges, yedges, dens.T)\n",
    "\n",
    "    axs[0].scatter(pca_translocate.query('traj_id == @t')[name_d1], pca_translocate.query('traj_id == @t')[name_d2], c='black', zorder=2, marker='x')\n",
    "    axs[1].scatter(pca_translocate.query('traj_id == @t')[name_d1], pca_translocate.query('traj_id == @t')[name_d2], c='black', zorder=2, marker='x')\n",
    "    \n",
    "    if t == 12:\n",
    "        axs[1].scatter(pca_df.query('traj_id == 12 & timestep == 900')[name_d1], pca_df.query('traj_id == 12 & timestep == 900')[name_d2], s=36, c='cyan', zorder=2, marker='X')\n",
    "        axs[1].scatter(pca_df.query('traj_id == 12 & timestep == 1000')[name_d1], pca_df.query('traj_id == 12 & timestep == 1000')[name_d2], s=36, c='cyan', zorder=2, marker='X')\n",
    "    else:\n",
    "        axs[1].scatter(pca_df.query('traj_id == 15 & timestep == 480')[name_d1], pca_df.query('traj_id == 15 & timestep == 480')[name_d2], s=36, c='cyan', zorder=2, marker='X')\n",
    "        axs[1].scatter(pca_df.query('traj_id == 15 & timestep == 730')[name_d1], pca_df.query('traj_id == 15 & timestep == 730')[name_d2], s=36, c='cyan', zorder=2, marker='X')\n",
    "        axs[1].scatter(pca_df.query('traj_id == 15 & timestep == 1000')[name_d1], pca_df.query('traj_id == 15 & timestep == 1000')[name_d2], s=36, c='cyan', zorder=2, marker='X')\n",
    "\n",
    "    # A filled contour just for the current trajectory\n",
    "    hist2d(traj_d1, traj_d2, bins=50, range=[xrange, yrange]).hist2d_contourf(axs[2])\n",
    "    \n",
    "    for ax in axs:\n",
    "        edgeformat(ax)\n",
    "        # ax.set_title('traj_id={}, E={}'.format(t, get_trajattr(t, 'voltage')))\n",
    "        ax.set_aspect('equal', adjustable='box', anchor='C')\n",
    "        ax.set_xlim(*xrange)\n",
    "        ax.set_ylim(*yrange)\n",
    "        ax.grid(True, linestyle='--')\n",
    "        \n",
    "    # savefig(f\"{t}_traj2d_translocation_marked.pdf\")"
   ]
  }
 ],
 "metadata": {
  "kernelspec": {
   "display_name": "Python 3",
   "language": "python",
   "name": "python3"
  },
  "language_info": {
   "codemirror_mode": {
    "name": "ipython",
    "version": 3
   },
   "file_extension": ".py",
   "mimetype": "text/x-python",
   "name": "python",
   "nbconvert_exporter": "python",
   "pygments_lexer": "ipython3",
   "version": "3.8.10"
  },
  "toc-autonumbering": true,
  "toc-showmarkdowntxt": false
 },
 "nbformat": 4,
 "nbformat_minor": 5
}
