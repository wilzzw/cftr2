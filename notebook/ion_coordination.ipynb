{
 "cells": [
  {
   "cell_type": "code",
   "execution_count": null,
   "metadata": {},
   "outputs": [],
   "source": [
    "import numpy as np\n",
    "import matplotlib.pyplot as plt\n",
    "\n",
    "from channel.ion_analysis import ion_coordination\n",
    "from plot.plot_utilities import edgeformat, shared_xylabels, savefig\n",
    "from database.query import get_trajid"
   ]
  },
  {
   "cell_type": "code",
   "execution_count": null,
   "metadata": {},
   "outputs": [],
   "source": [
    "%store -r traj_ids\n",
    "%store -r transloc_df"
   ]
  },
  {
   "cell_type": "code",
   "execution_count": null,
   "metadata": {},
   "outputs": [],
   "source": [
    "cla_coord = ion_coordination()\n",
    "cla_coord.calc_polar()\n",
    "cla_coord.calc_nonpolar()"
   ]
  },
  {
   "cell_type": "code",
   "execution_count": null,
   "metadata": {},
   "outputs": [],
   "source": [
    "zmin = 90\n",
    "zmax = 150\n",
    "bin_width = 1\n",
    "\n",
    "cla_coord.prepare()"
   ]
  },
  {
   "cell_type": "code",
   "execution_count": null,
   "metadata": {},
   "outputs": [],
   "source": [
    "low_voltage_trajids = get_trajid(voltage=(-0.01, 0.01))\n",
    "low_voltage_trajids = np.intersect1d(low_voltage_trajids, traj_ids)\n",
    "\n",
    "# transloc_onpath = transloc_df.query(\"(path_assign == 2 | path_assign == 0) & traj_id in @low_voltage_trajids\")['transloc_id']\n",
    "transloc_onpath = transloc_df.query(\"path_assign == 1 & traj_id in @low_voltage_trajids\")['transloc_id']\n",
    "# transloc_onpath = transloc_df.query(\"traj_id in @low_voltage_trajids\")['transloc_id']\n",
    "\n",
    "cla_coord.analyze('traj_id in @low_voltage_trajids & transloc_id in @transloc_onpath', low_voltage_trajids=low_voltage_trajids, transloc_onpath=list(transloc_onpath))"
   ]
  },
  {
   "cell_type": "markdown",
   "metadata": {},
   "source": [
    "# Analysis"
   ]
  },
  {
   "cell_type": "code",
   "execution_count": null,
   "metadata": {},
   "outputs": [],
   "source": [
    "protein_resnames = [\"ASP\", \"GLU\", \"LYS\", \"ARG\", \"HIS\", \"HSD\", \"TYR\", \"TRP\", \"PHE\", \"ASN\", \"GLN\", \"SER\", \"THR\", \"MET\", \"ALA\", \"VAL\", \"LEU\", \"ILE\", \"PRO\", \"GLY\", \"CYS\"]\n",
    "other_resnames = [\"POPC\", \"TIP3\", \"SOD\", \"CLA\"]"
   ]
  },
  {
   "cell_type": "code",
   "execution_count": null,
   "metadata": {},
   "outputs": [],
   "source": [
    "plot_zmin = 90\n",
    "plot_zmax = 145"
   ]
  },
  {
   "cell_type": "code",
   "execution_count": null,
   "metadata": {},
   "outputs": [],
   "source": [
    "def plot_vs_z(func):\n",
    "    def _plot(axs, horizontal=True, fill_between=False, **plot_kwargs):\n",
    "        resbind = func(cla_coord)\n",
    "        if horizontal:\n",
    "            axs.plot(cla_coord.bin_z, resbind, **plot_kwargs)\n",
    "            if fill_between:\n",
    "                axs.fill_between(cla_coord.bin_z, np.zeros(len(cla_coord.bin_z)), resbind, color=plot_kwargs['color'], alpha=0.5)\n",
    "        else:\n",
    "            axs.plot(resbind, cla_coord.bin_z, **plot_kwargs)\n",
    "            if fill_between:\n",
    "                axs.fill_betweenx(cla_coord.bin_z, np.zeros(len(cla_coord.bin_z)), resbind, color=plot_kwargs['color'], alpha=0.5)\n",
    "        return resbind\n",
    "    return _plot\n",
    "\n",
    "@plot_vs_z\n",
    "def all_coord_contribute(cla_coord):\n",
    "    # All\n",
    "    all_resbind = np.sum(list(cla_coord.resid_bind.values()), axis=0)\n",
    "    return all_resbind\n",
    "\n",
    "@plot_vs_z\n",
    "def water_coord_contribute(cla_coord):\n",
    "    # Water\n",
    "    water_resbind = cla_coord.resid_bind['TIP3']\n",
    "    return water_resbind\n",
    "\n",
    "@plot_vs_z\n",
    "def protein_coord_contribute(cla_coord):\n",
    "    # Protein\n",
    "    # TODO: more rigorous check\n",
    "    prot_resbind = [vals for res, vals in cla_coord.resid_bind.items() if res not in other_resnames]\n",
    "    prot_resbind = np.sum(prot_resbind, axis=0)\n",
    "    return prot_resbind\n",
    "\n",
    "@plot_vs_z\n",
    "def nonpolar_coord_contribute(cla_coord):\n",
    "    # Non-polar protein residues\n",
    "    prot_nonpolar_resbind = [vals for res, vals in cla_coord.resid_bind_nonpolar.items() if res not in other_resnames]\n",
    "    # prot_nonpolar_resbind = np.sum(np.nan_to_num(prot_nonpolar_resbind), axis=0)\n",
    "    prot_nonpolar_resbind = np.sum(prot_nonpolar_resbind, axis=0)\n",
    "    return prot_nonpolar_resbind"
   ]
  },
  {
   "cell_type": "code",
   "execution_count": null,
   "metadata": {},
   "outputs": [],
   "source": [
    "resids_of_interest = [\"K190\", \"R248\", \"R303\", \"R352\", \"W356\", \"R1097\", \"K95\", \"R134\", \"S1141\", \"S341\", \"N1138\", \"T338\", \"R334\", \"F337\", \"Y917\", \"Y914\", \"S1118\", \"R117\", \"R104\", \"POPC\"]\n",
    "\n",
    "# POPC is excluded: beyond the scope of this work and is outside of the pore\n",
    "# R104 is excluded: it does show a peak in the n_solv vs z plot in the grey region\n",
    "# However, it is not actually inside the bottleneck region (shown as grey) or contribute to the selectivity filter\n",
    "# This is because 1-6 pathway runs sideways and not straight up along z anymore at this region\n",
    "# In short, the structure of the permeation pathway in this region is peculiar\n",
    "exclude_residues = [\"POPC\", \"R104\"]"
   ]
  },
  {
   "cell_type": "code",
   "execution_count": null,
   "metadata": {},
   "outputs": [],
   "source": [
    "# annotation_position_shift = {\"Y914\": (-0.1,2.5), \"Y917\": (0,-1), \"R117\": (-0.2,-1), \"F337\": (0,-1), \"S341\": (-0.1,-1), \"R352\": (0,1), \"R1097\": (0,1), \"K190\": (-0.1,-1.5)}\n",
    "annotation_position_shift = {}\n",
    "manual_color = {}\n",
    "\n",
    "fig, Axs = plt.subplots(1, 2, figsize=(8,10), sharey=True)\n",
    "for axs in Axs:\n",
    "    edgeformat(axs)\n",
    "    # set tick font size to 14\n",
    "    axs.tick_params(labelsize=14)\n",
    "\n",
    "shared_xylabels(fig, ylabel=r\"$z$ [$\\mathrm{\\AA}$]\", xlabel=r\"$n_{solv}$(Cl-)\", fontsize=20)\n",
    "\n",
    "##### Residue specific #####\n",
    "for res in resids_of_interest:\n",
    "\n",
    "    # if res in exclude_residues:\n",
    "    #     continue\n",
    "\n",
    "    resid_bind = cla_coord.resid_bind[res]\n",
    "    resid_bind_nonpolar = cla_coord.resid_bind_nonpolar[res]\n",
    "    # Show the non-polar residues in resids_of_interest even if they have no major contribution\n",
    "    if max(resid_bind) < 0.1:\n",
    "        if max(resid_bind_nonpolar) > 0:\n",
    "            resid_bind = resid_bind_nonpolar\n",
    "        else:\n",
    "            continue\n",
    "    \n",
    "    if manual_color.get(res) is not None:\n",
    "        Axs[1].plot(resid_bind, cla_coord.bin_z, color=manual_color[res], lw=2)\n",
    "    else:\n",
    "        Axs[1].plot(resid_bind, cla_coord.bin_z, lw=2)\n",
    "\n",
    "    # Get the color of the line\n",
    "    color = Axs[1].get_lines()[-1].get_color()\n",
    "\n",
    "    text_xshift, text_yshift = annotation_position_shift.get(res, (0,0))\n",
    "    Axs[1].annotate(res, \n",
    "                    xy=(np.nanmax(resid_bind), cla_coord.bin_z[np.nanargmax(resid_bind)]), \n",
    "                    xytext=(np.nanmax(resid_bind)+text_xshift+0.01, cla_coord.bin_z[np.nanargmax(resid_bind)]+text_yshift-1), \n",
    "                    fontsize=16, color=color, weight='bold')\n",
    "\n",
    "Axs[1].set_ylim(plot_zmin,plot_zmax)\n",
    "Axs[1].set_yticks(np.arange(plot_zmin,plot_zmax+5,5))\n",
    "Axs[1].set_xlim(0,1)\n",
    "Axs[1].grid(True, ls='--')\n",
    "\n",
    "##### All, Water, Protein #####\n",
    "# All\n",
    "all_resbind = all_coord_contribute(Axs[0], horizontal=False, label=\"all\", color='green', lw=2)\n",
    "# Water\n",
    "water_resbind = water_coord_contribute(Axs[0], horizontal=False, label=\"water\", color='red', lw=2)\n",
    "# Protein\n",
    "prot_resbind = protein_coord_contribute(Axs[0], horizontal=False, label=\"protein\", color='black', lw=2)\n",
    "# Non-polar protein residues\n",
    "prot_nonpolar_resbind = nonpolar_coord_contribute(Axs[0], horizontal=False, label=\"non-polar protein\", color='purple', lw=2)\n",
    "\n",
    "for axs in Axs:\n",
    "    axs.fill_between([0,8], 125, 135, color='gray', alpha=0.2)\n",
    "\n",
    "Axs[0].set_xlim(0,8)\n",
    "Axs[0].set_xticks(np.arange(0,8+1))\n",
    "Axs[0].set_ylim(plot_zmin,plot_zmax)\n",
    "# Axs[1].legend()\n",
    "Axs[0].grid(True, ls='--')\n",
    "Axs[0].set_yticks(np.arange(plot_zmin,plot_zmax+5,5))\n",
    "Axs[0].set_yticklabels(np.arange(plot_zmin,plot_zmax+5,5)-130)\n",
    "\n",
    "# savefig(\"central_pathway_ionenv_lowU_v.pdf\")"
   ]
  },
  {
   "cell_type": "code",
   "execution_count": null,
   "metadata": {},
   "outputs": [],
   "source": [
    "#annotation_position_shift = {\"Y914\": (-0.1,2.5), \"Y917\": (0,-1), \"R117\": (-0.2,-1), \"F337\": (0,-1), \"S341\": (-0.1,-1), \"R352\": (0,1), \"R1097\": (0,1), \"K190\": (-0.1,-1.5)}\n",
    "annotation_position_shift = {}\n",
    "manual_color = {}\n",
    "\n",
    "fig, Axs = plt.subplots(1, 2, figsize=(8,8), sharey=True)\n",
    "for axs in Axs:\n",
    "    edgeformat(axs)\n",
    "    # set tick font size to 14\n",
    "    axs.tick_params(labelsize=14)\n",
    "\n",
    "shared_xylabels(fig, ylabel=r\"$z$ [$\\mathrm{\\AA}$]\", xlabel=r\"$n_{solv}$(Cl-)\", fontsize=20)\n",
    "\n",
    "##### Residue specific #####\n",
    "for res in resids_of_interest:\n",
    "\n",
    "    if res in exclude_residues:\n",
    "        continue\n",
    "\n",
    "    resid_bind = cla_coord.resid_bind[res]\n",
    "    resid_bind_nonpolar = cla_coord.resid_bind_nonpolar[res]\n",
    "    if max(resid_bind) < 0.1:\n",
    "        if max(resid_bind_nonpolar) > 0:\n",
    "            resid_bind = resid_bind_nonpolar\n",
    "        else:\n",
    "            continue\n",
    "    \n",
    "    if manual_color.get(res) is not None:\n",
    "        Axs[1].plot(resid_bind, cla_coord.bin_z, color=manual_color[res], lw=2)\n",
    "    else:\n",
    "        Axs[1].plot(resid_bind, cla_coord.bin_z, lw=2)\n",
    "\n",
    "    # Get the color of the line\n",
    "    color = Axs[1].get_lines()[-1].get_color()\n",
    "\n",
    "    text_xshift, text_yshift = annotation_position_shift.get(res, (0,0))\n",
    "    Axs[1].annotate(res, \n",
    "                    xy=(np.nanmax(resid_bind), cla_coord.bin_z[np.nanargmax(resid_bind)]), \n",
    "                    xytext=(np.nanmax(resid_bind)+text_xshift+0.01, cla_coord.bin_z[np.nanargmax(resid_bind)]+text_yshift-1), \n",
    "                    fontsize=16, color=color, weight='bold')\n",
    "\n",
    "Axs[1].set_ylim(plot_zmin,plot_zmax)\n",
    "Axs[1].set_yticks(np.arange(plot_zmin,plot_zmax+5,5))\n",
    "Axs[1].set_xlim(0,1)\n",
    "Axs[1].grid(True, ls='--')\n",
    "\n",
    "##### All, Water, Protein #####\n",
    "# All\n",
    "all_resbind = all_coord_contribute(Axs[0], horizontal=False, label=\"all\", color='green', lw=2)\n",
    "# Water\n",
    "water_resbind = water_coord_contribute(Axs[0], horizontal=False, label=\"water\", color='red', lw=2)\n",
    "# Protein\n",
    "prot_resbind = protein_coord_contribute(Axs[0], horizontal=False, label=\"protein\", color='black', lw=2)\n",
    "# Non-polar protein residues\n",
    "prot_nonpolar_resbind = nonpolar_coord_contribute(Axs[0], horizontal=False, label=\"non-polar protein\", color='purple', lw=2)\n",
    "\n",
    "for axs in Axs:\n",
    "    axs.fill_between([0,8], 125, 135, color='gray', alpha=0.2)\n",
    "\n",
    "Axs[0].set_xlim(0,8)\n",
    "Axs[0].set_xticks(np.arange(0,8+1))\n",
    "Axs[0].set_ylim(plot_zmin+30,plot_zmax)\n",
    "# Axs[1].legend()\n",
    "Axs[0].grid(True, ls='--')\n",
    "Axs[0].set_yticks(np.arange(plot_zmin+30,plot_zmax+5,5))\n",
    "Axs[0].set_yticklabels(np.arange(plot_zmin+30,plot_zmax+5,5)-130)\n",
    "\n",
    "# savefig(\"central_pathway_ionenv_lowU_vshort.pdf\")"
   ]
  },
  {
   "cell_type": "markdown",
   "metadata": {},
   "source": [
    "# Water histogram"
   ]
  },
  {
   "cell_type": "code",
   "execution_count": null,
   "metadata": {},
   "outputs": [],
   "source": [
    "n_water_bound = cla_coord.polar_df.query('z > 160 | z < 10')['TIP3']\n",
    "n_water_bound.value_counts()\n",
    "\n",
    "fig, axs = plt.subplots()\n",
    "edgeformat(axs)\n",
    "\n",
    "axs.bar(n_water_bound.value_counts().index, n_water_bound.value_counts().values / len(n_water_bound), color='green')\n",
    "axs.set_xlim(0,10)\n",
    "axs.set_ylim(0,1)\n",
    "axs.set_xlabel(r\"$N_{\\mathrm{{H_2}O}}$ in 1st coord. shell\", fontsize=16)\n",
    "axs.set_ylabel(\"Probability\", fontsize=16)\n",
    "\n",
    "# savefig(\"coord_shell_water-central.pdf\")"
   ]
  },
  {
   "cell_type": "code",
   "execution_count": null,
   "metadata": {},
   "outputs": [],
   "source": [
    "print(n_water_bound.mean(), n_water_bound.std())"
   ]
  },
  {
   "cell_type": "code",
   "execution_count": null,
   "metadata": {},
   "outputs": [],
   "source": [
    "fig, axs = plt.subplots()\n",
    "edgeformat(axs)\n",
    "\n",
    "\n",
    "n_water_bound = cla_coord.polar_df.query('z > 160 | z < 10')['TIP3']\n",
    "n_water_bound.value_counts()\n",
    "axs.bar(n_water_bound.value_counts().index, n_water_bound.value_counts().values / len(n_water_bound), width=0.4, align='edge', color='grey', zorder=2, alpha=0.5)\n",
    "\n",
    "transloc_central_path = transloc_df.query(\"path_assign == 2 | path_assign == 0\")['transloc_id']\n",
    "n_water_bound = cla_coord.polar_df.query('z > 125 & z < 135 & transloc_id in @transloc_central_path')['TIP3']\n",
    "n_water_bound.value_counts()\n",
    "axs.bar(n_water_bound.value_counts().index, n_water_bound.value_counts().values / len(n_water_bound), width=-0.4, align='edge', color='green', zorder=2)\n",
    "\n",
    "axs.set_xlim(0,10)\n",
    "axs.set_ylim(0,0.5)\n",
    "axs.set_xlabel(r\"$N_{\\mathrm{{H_2}O}} \\mathrm{(coord)}$\", fontsize=16)\n",
    "axs.set_ylabel(\"Probability\", fontsize=16)\n",
    "axs.grid(True, ls='--', zorder=1)\n",
    "axs.set_xticks(np.arange(-1,9)+1)\n",
    "axs.set_xlim(-1,10)\n",
    "\n",
    "# savefig(\"coord_shell_water-central.pdf\")"
   ]
  },
  {
   "cell_type": "code",
   "execution_count": null,
   "metadata": {},
   "outputs": [],
   "source": [
    "print(n_water_bound.mean(), n_water_bound.std())"
   ]
  },
  {
   "cell_type": "code",
   "execution_count": null,
   "metadata": {},
   "outputs": [],
   "source": [
    "fig, axs = plt.subplots()\n",
    "edgeformat(axs)\n",
    "\n",
    "n_water_bound = cla_coord.polar_df.query('z > 160 | z < 10')['TIP3']\n",
    "n_water_bound.value_counts()\n",
    "axs.bar(n_water_bound.value_counts().index, n_water_bound.value_counts().values / len(n_water_bound), width=0.4, align='edge', color='grey', zorder=2, alpha=0.5)\n",
    "\n",
    "transloc_side_path = transloc_df.query(\"path_assign == 1\")['transloc_id']\n",
    "n_water_bound = cla_coord.polar_df.query('z > 125 & z < 135 & transloc_id in @transloc_side_path')['TIP3']\n",
    "n_water_bound.value_counts()\n",
    "axs.bar(n_water_bound.value_counts().index, n_water_bound.value_counts().values / len(n_water_bound), width=-0.4, align='edge', color='blue', zorder=2)\n",
    "\n",
    "axs.set_xlim(0,10)\n",
    "axs.set_ylim(0,0.5)\n",
    "axs.set_xlabel(r\"$N_{\\mathrm{{H_2}O}} \\mathrm{(coord)}$\", fontsize=16)\n",
    "axs.set_ylabel(\"Probability\", fontsize=16)\n",
    "axs.grid(True, ls='--', zorder=1)\n",
    "axs.set_xticks(np.arange(-1,9)+1)\n",
    "axs.set_xlim(-1,10)\n",
    "\n",
    "# savefig(\"coord_shell_water-1-6.pdf\")"
   ]
  },
  {
   "cell_type": "code",
   "execution_count": null,
   "metadata": {},
   "outputs": [],
   "source": [
    "print(n_water_bound.mean(), n_water_bound.std())"
   ]
  }
 ],
 "metadata": {
  "kernelspec": {
   "display_name": "Python 3",
   "language": "python",
   "name": "python3"
  },
  "language_info": {
   "codemirror_mode": {
    "name": "ipython",
    "version": 3
   },
   "file_extension": ".py",
   "mimetype": "text/x-python",
   "name": "python",
   "nbconvert_exporter": "python",
   "pygments_lexer": "ipython3",
   "version": "3.8.10"
  },
  "toc-autonumbering": true
 },
 "nbformat": 4,
 "nbformat_minor": 4
}
