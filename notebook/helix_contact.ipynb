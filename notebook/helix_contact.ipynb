{
 "cells": [
  {
   "cell_type": "code",
   "execution_count": null,
   "metadata": {},
   "outputs": [],
   "source": [
    "import numpy as np\n",
    "import matplotlib.pyplot as plt\n",
    "\n",
    "from conf.conf_analysis import protca\n",
    "from utils.atomselect import interval_selection\n",
    "from plot.plot_utilities import hist1d, edgeformat, savefig"
   ]
  },
  {
   "cell_type": "code",
   "execution_count": null,
   "metadata": {},
   "outputs": [],
   "source": [
    "%store -r traj_ids\n",
    "%store -r traj_ids_closed\n",
    "\n",
    "%store -r map_assign\n",
    "%store -r color_assign"
   ]
  },
  {
   "cell_type": "markdown",
   "metadata": {},
   "source": [
    "# Helix segmental distance"
   ]
  },
  {
   "cell_type": "code",
   "execution_count": null,
   "metadata": {},
   "outputs": [],
   "source": [
    "def helix_segment_distance(segment1, segment2, traj_ids):\n",
    "    segment1_resids = interval_selection(*segment1)\n",
    "    segment2_resids = interval_selection(*segment2)\n",
    "\n",
    "    main = protca(traj_ids, np.concatenate([segment1_resids, segment2_resids]))\n",
    "    main.load_cainfo()\n",
    "\n",
    "    segment1_xyz = main.ca_coord_set.query('resid in @segment1_resids')[['x', 'y', 'z']].values\n",
    "    segment1_xyz = segment1_xyz.reshape(-1, len(segment1_resids), 3)\n",
    "    com_segment1 = np.mean(segment1_xyz, axis=1)\n",
    "\n",
    "    segment2_xyz = main.ca_coord_set.query('resid in @segment2_resids')[['x', 'y', 'z']].values\n",
    "    segment2_xyz = segment2_xyz.reshape(-1, len(segment2_resids), 3)\n",
    "    com_segment2 = np.mean(segment2_xyz, axis=1)\n",
    "\n",
    "    segment_distance = np.linalg.norm(com_segment1 - com_segment2, axis=1)\n",
    "    return segment_distance"
   ]
  },
  {
   "cell_type": "code",
   "execution_count": null,
   "metadata": {},
   "outputs": [],
   "source": [
    "tm10top = [1013, 1021]\n",
    "tm11top = [1114, 1122]\n",
    "\n",
    "tm10_tm11_topdist_nearopen = helix_segment_distance(tm10top, tm11top, traj_ids)\n",
    "tm10_tm11_topdist_closed = helix_segment_distance(tm10top, tm11top, traj_ids_closed)"
   ]
  },
  {
   "cell_type": "markdown",
   "metadata": {},
   "source": [
    "# TM10-TM11"
   ]
  },
  {
   "cell_type": "code",
   "execution_count": null,
   "metadata": {},
   "outputs": [],
   "source": [
    "%store -r states_df\n",
    "\n",
    "fig, axs = plt.subplots()\n",
    "edgeformat(axs)\n",
    "\n",
    "for s in [3,0,2,1]:\n",
    "    states_selection = (states_df['tmpc1v2'] == s)\n",
    "    hist1d(tm10_tm11_topdist_nearopen[states_selection], bins=50).plot(axs, label=map_assign[s], color=color_assign[s])\n",
    "\n",
    "hist1d(tm10_tm11_topdist_closed, bins=50).plot(axs, label=\"md_5UAK\", color='black')\n",
    "\n",
    "axs.set_xlim(8,20)\n",
    "axs.set_ylim(0,1)\n",
    "axs.set_xlabel(r\"$d_{10-11}$ [$\\mathrm{\\AA}$]\", fontsize=16)\n",
    "axs.set_ylabel(\"Prob. density [A.U.]\", fontsize=16)\n",
    "axs.legend()\n",
    "axs.grid(True, ls='--')\n",
    "\n",
    "# savefig(\"dist_tm10-tm11_top.pdf\")"
   ]
  }
 ],
 "metadata": {
  "kernelspec": {
   "display_name": "Python 3",
   "language": "python",
   "name": "python3"
  },
  "language_info": {
   "codemirror_mode": {
    "name": "ipython",
    "version": 3
   },
   "file_extension": ".py",
   "mimetype": "text/x-python",
   "name": "python",
   "nbconvert_exporter": "python",
   "pygments_lexer": "ipython3",
   "version": "3.8.10"
  }
 },
 "nbformat": 4,
 "nbformat_minor": 4
}
