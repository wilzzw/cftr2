{
 "cells": [
  {
   "cell_type": "code",
   "execution_count": null,
   "id": "cdf66594-d91a-4608-a4a2-ce7b27adecdc",
   "metadata": {},
   "outputs": [],
   "source": [
    "import numpy as np\n",
    "import pandas as pd\n",
    "import matplotlib.pyplot as plt\n",
    "\n",
    "from compEL.iv import discrete_iv\n",
    "\n",
    "from database.query import get_trajid\n",
    "from plot.plot_utilities import edgeformat, savefig"
   ]
  },
  {
   "cell_type": "code",
   "execution_count": null,
   "id": "cdb00383-122a-4c4c-a61b-ddc60edf457b",
   "metadata": {},
   "outputs": [],
   "source": [
    "# Pre-requisites\n",
    "%store -r traj_ids\n",
    "%store -r states_df\n",
    "%store -r color_assign\n",
    "%store -r map_assign"
   ]
  },
  {
   "cell_type": "code",
   "execution_count": null,
   "id": "09ec25a9",
   "metadata": {},
   "outputs": [],
   "source": [
    "iv_main = discrete_iv(traj_ids)\n",
    "iv_main.prepare(states_df)"
   ]
  },
  {
   "cell_type": "code",
   "execution_count": null,
   "id": "7e224e04-5a8e-4a29-a0b2-0b3037da4d3f",
   "metadata": {},
   "outputs": [],
   "source": [
    "state_label = \"tmpc1v2\"\n",
    "state_values = [3,0,2,1]\n",
    "\n",
    "# r334 >= 0 is a trivial true condition\n",
    "iv_main.compile_iv(breakdown_by=state_label, breakdown_labels=state_values, restraint_string=\"r334 >= 0\")"
   ]
  },
  {
   "cell_type": "code",
   "execution_count": null,
   "id": "5f49779a",
   "metadata": {},
   "outputs": [],
   "source": [
    "fig, axs = plt.subplots(figsize=(6,6))\n",
    "\n",
    "iv_main.ivplot_preset1(axs)\n",
    "iv_main.ivplot(axs, \n",
    "               state_labels_values={s: map_assign[s] for s in state_values}, \n",
    "               color_dict=color_assign)\n",
    "\n",
    "axs.legend(loc=2)\n",
    "# savefig(\"all_simpletransloc.pdf\")"
   ]
  },
  {
   "cell_type": "code",
   "execution_count": null,
   "id": "eaa10ee2",
   "metadata": {},
   "outputs": [],
   "source": [
    "fig, axs = plt.subplots(figsize=(6,6))\n",
    "\n",
    "iv_main.ivplot_preset2(axs)\n",
    "iv_main.ivplot(axs, \n",
    "               state_labels_values={s: map_assign[s] for s in state_values}, \n",
    "               color_dict=color_assign, states2fit=[3])\n",
    "\n",
    "axs.legend(loc=2)\n",
    "# savefig(\"all_simpletransloc_zoomed.pdf\")"
   ]
  },
  {
   "cell_type": "markdown",
   "id": "50ef2cc7",
   "metadata": {},
   "source": [
    "# TM state sampling statistics by voltage"
   ]
  },
  {
   "cell_type": "code",
   "execution_count": null,
   "id": "541bc326",
   "metadata": {},
   "outputs": [],
   "source": [
    "Ez_vals = iv_main.iv_df['Ez'].unique()"
   ]
  },
  {
   "cell_type": "code",
   "execution_count": null,
   "id": "a053c653",
   "metadata": {},
   "outputs": [],
   "source": [
    "s = 0\n",
    "time_sampled = []\n",
    "\n",
    "for Ez in Ez_vals:\n",
    "    trajs_atE = get_trajid(voltage=Ez)\n",
    "    states_subdf = states_df.query(\"traj_id in @trajs_atE\")\n",
    "    time_sampled.append(states_subdf['tmpc1v2'].value_counts())\n",
    "\n",
    "time_sampled = pd.concat(time_sampled, axis=1).T\n",
    "time_sampled.fillna(0, inplace=True)\n",
    "time_sampled['Ez'] = Ez_vals\n",
    "\n",
    "fig, axs = plt.subplots(figsize=(10,3))\n",
    "edgeformat(axs)\n",
    "\n",
    "bottom = np.zeros(len(time_sampled))\n",
    "for s in [3,0,2,1][::-1]:\n",
    "    axs.bar([Ez*16.5*1000 for Ez in Ez_vals], time_sampled[s], bottom=bottom, label=map_assign[s], color=color_assign[s], width=12)\n",
    "    bottom += time_sampled[s]\n",
    "# axs.legend()\n",
    "### Adapted from: https://www.statology.org/matplotlib-legend-order/\n",
    "# get handles and labels\n",
    "handles, labels = plt.gca().get_legend_handles_labels()\n",
    "# specify order of items in legend\n",
    "order = [3,2,1,0]\n",
    "# add legend to plot\n",
    "axs.legend([handles[idx] for idx in order], [labels[idx] for idx in order])\n",
    "\n",
    "axs.grid(True, ls='--')\n",
    "axs.set_ylabel(\"Aggregate sampling [ns]\", fontsize=16)\n",
    "axs.set_xlabel(\"Voltage [mV]\")\n",
    "\n",
    "# savefig(\"sampling_by_pc_states_vs_voltage.pdf\")\n",
    "# time_sampled"
   ]
  },
  {
   "cell_type": "markdown",
   "id": "76fe341d",
   "metadata": {},
   "source": [
    "# By R334"
   ]
  },
  {
   "cell_type": "code",
   "execution_count": null,
   "id": "f1b41054",
   "metadata": {},
   "outputs": [],
   "source": [
    "state_label = \"r334\"\n",
    "state_values = [0,1]\n",
    "\n",
    "# r334 >= 0 is a trivial true condition\n",
    "iv_main.compile_iv(breakdown_by=state_label, breakdown_labels=state_values, restraint_string=\"tmpc1v2 == 3\")"
   ]
  },
  {
   "cell_type": "code",
   "execution_count": null,
   "id": "2dc6cf14",
   "metadata": {},
   "outputs": [],
   "source": [
    "state_dict = {0: \"up\", 1: \"down\"}\n",
    "color_dict = {0: \"blue\", 1: \"red\"}"
   ]
  },
  {
   "cell_type": "code",
   "execution_count": null,
   "id": "ca5d893b",
   "metadata": {},
   "outputs": [],
   "source": [
    "fig, axs = plt.subplots(figsize=(6,6))\n",
    "\n",
    "iv_main.ivplot_preset1(axs)\n",
    "iv_main.ivplot(axs, \n",
    "               state_labels_values={s: state_dict[s] for s in state_values}, \n",
    "               color_dict=color_dict)\n",
    "\n",
    "axs.legend(loc=2)\n",
    "# savefig(\"all_simpletransloc.pdf\")"
   ]
  },
  {
   "cell_type": "code",
   "execution_count": null,
   "id": "e8354ec8",
   "metadata": {},
   "outputs": [],
   "source": [
    "fig, axs = plt.subplots(figsize=(6,6))\n",
    "\n",
    "iv_main.ivplot_preset2(axs)\n",
    "iv_main.ivplot(axs, \n",
    "               state_labels_values={s: state_dict[s] for s in state_values}, \n",
    "               color_dict=color_dict, states2fit=[0,1])\n",
    "\n",
    "axs.legend(loc=2)"
   ]
  },
  {
   "cell_type": "markdown",
   "id": "7a3bb809",
   "metadata": {},
   "source": [
    "# By R134"
   ]
  },
  {
   "cell_type": "code",
   "execution_count": null,
   "id": "4bb00a4e",
   "metadata": {},
   "outputs": [],
   "source": [
    "state_label = \"r134\"\n",
    "state_values = [0,1]\n",
    "\n",
    "# r334 >= 0 is a trivial true condition\n",
    "iv_main.compile_iv(breakdown_by=state_label, breakdown_labels=state_values, restraint_string=\"tmpc1v2 == 3\")"
   ]
  },
  {
   "cell_type": "code",
   "execution_count": null,
   "id": "ebd518be",
   "metadata": {},
   "outputs": [],
   "source": [
    "state_dict = {0: \"up\", 1: \"down\"}\n",
    "color_dict = {0: \"blue\", 1: \"red\"}"
   ]
  },
  {
   "cell_type": "code",
   "execution_count": null,
   "id": "40255620",
   "metadata": {},
   "outputs": [],
   "source": [
    "fig, axs = plt.subplots(figsize=(6,6))\n",
    "\n",
    "iv_main.ivplot_preset1(axs)\n",
    "iv_main.ivplot(axs, \n",
    "               state_labels_values={s: state_dict[s] for s in state_values}, \n",
    "               color_dict=color_dict)\n",
    "\n",
    "axs.legend(loc=2)\n",
    "# savefig(\"all_simpletransloc.pdf\")"
   ]
  },
  {
   "cell_type": "code",
   "execution_count": null,
   "id": "94856a35",
   "metadata": {},
   "outputs": [],
   "source": [
    "fig, axs = plt.subplots(figsize=(6,6))\n",
    "\n",
    "iv_main.ivplot_preset2(axs)\n",
    "iv_main.ivplot(axs, \n",
    "               state_labels_values={s: state_dict[s] for s in state_values}, \n",
    "               color_dict=color_dict, states2fit=[0,1])\n",
    "\n",
    "axs.legend(loc=2)"
   ]
  },
  {
   "cell_type": "markdown",
   "id": "8591d3a9",
   "metadata": {},
   "source": [
    "# By E1126 (salt-bridge with R334)"
   ]
  },
  {
   "cell_type": "code",
   "execution_count": null,
   "id": "6e62dcdc",
   "metadata": {},
   "outputs": [],
   "source": [
    "state_label = \"e1126\"\n",
    "state_values = [0,1]\n",
    "\n",
    "# r334 >= 0 is a trivial true condition\n",
    "iv_main.compile_iv(breakdown_by=state_label, breakdown_labels=state_values, restraint_string=\"tmpc1v2 == 3 & r334 == 1\")"
   ]
  },
  {
   "cell_type": "code",
   "execution_count": null,
   "id": "5624b0e6",
   "metadata": {},
   "outputs": [],
   "source": [
    "state_dict = {1: \"up\", 0: \"down\"}\n",
    "color_dict = {0: \"blue\", 1: \"red\"}"
   ]
  },
  {
   "cell_type": "code",
   "execution_count": null,
   "id": "b4bc35d0",
   "metadata": {},
   "outputs": [],
   "source": [
    "fig, axs = plt.subplots(figsize=(6,6))\n",
    "\n",
    "iv_main.ivplot_preset1(axs)\n",
    "iv_main.ivplot(axs, \n",
    "               state_labels_values={s: state_dict[s] for s in state_values}, \n",
    "               color_dict=color_dict)\n",
    "\n",
    "axs.legend(loc=2)\n",
    "# savefig(\"all_simpletransloc.pdf\")"
   ]
  },
  {
   "cell_type": "code",
   "execution_count": null,
   "id": "26c8bd92",
   "metadata": {},
   "outputs": [],
   "source": [
    "fig, axs = plt.subplots(figsize=(6,6))\n",
    "\n",
    "iv_main.ivplot_preset2(axs)\n",
    "iv_main.ivplot(axs, \n",
    "               state_labels_values={s: state_dict[s] for s in state_values}, \n",
    "               color_dict=color_dict, states2fit=[0,1])\n",
    "\n",
    "axs.legend(loc=2)"
   ]
  }
 ],
 "metadata": {
  "kernelspec": {
   "display_name": "Python 3",
   "language": "python",
   "name": "python3"
  },
  "language_info": {
   "codemirror_mode": {
    "name": "ipython",
    "version": 3
   },
   "file_extension": ".py",
   "mimetype": "text/x-python",
   "name": "python",
   "nbconvert_exporter": "python",
   "pygments_lexer": "ipython3",
   "version": "3.8.10"
  }
 },
 "nbformat": 4,
 "nbformat_minor": 5
}
