{
 "cells": [
  {
   "cell_type": "code",
   "execution_count": null,
   "id": "a6da1592-9ffa-44ad-ae7a-f886e0d235b6",
   "metadata": {},
   "outputs": [],
   "source": [
    "import numpy as np\n",
    "import matplotlib.pyplot as plt\n",
    "import pandas as pd\n",
    "\n",
    "from conf.conf_analysis import protca, dist\n",
    "from plot.plot_utilities import edgeformat, xaxis, yaxis, savefig"
   ]
  },
  {
   "cell_type": "code",
   "execution_count": null,
   "id": "ee6189cb-fe02-44d0-ad48-1ca9f0b8e332",
   "metadata": {},
   "outputs": [],
   "source": [
    "%store -r traj_ids_closed"
   ]
  },
  {
   "cell_type": "code",
   "execution_count": null,
   "id": "5f81ab19-5729-442b-8ae3-36fb36fd9466",
   "metadata": {},
   "outputs": [],
   "source": [
    "main = protca(traj_ids_closed, resids=[464, 549, 1250, 1348], close_after_init=False)\n",
    "\n",
    "main.load_cainfo()\n",
    "main.ca_coord_set"
   ]
  },
  {
   "cell_type": "code",
   "execution_count": null,
   "id": "b188aa87-e06a-4012-9143-64a9045b45c5",
   "metadata": {
    "tags": []
   },
   "outputs": [],
   "source": [
    "site1_r1, site1_r2 = (464, 1348)\n",
    "site2_r1, site2_r2 = (549, 1250)\n",
    "\n",
    "# nbd1_r = [site1_r[0], site2_r[0]]\n",
    "# nbd2_r = [site1_r[-1], site2_r[-1]]\n",
    "\n",
    "# Dist1\n",
    "xyz1_df = main.ca_coord_set.query(\"resid == @site1_r1\")\n",
    "xyz2_df = main.ca_coord_set.query(\"resid == @site1_r2\")\n",
    "dist_site1 = dist(xyz1_df[['x', 'y', 'z']].values, xyz2_df[['x', 'y', 'z']].values)\n",
    "\n",
    "dist_df1 = pd.DataFrame()\n",
    "dist_df1[['traj_id', 'timestep']] = xyz1_df[['traj_id', 'timestep']]\n",
    "dist_df1[['r1', 'r2']] = [site1_r1, site1_r2]\n",
    "dist_df1['distance'] = dist_site1\n",
    "\n",
    "\n",
    "# Dist2\n",
    "xyz1_df = main.ca_coord_set.query(\"resid == @site2_r1\")\n",
    "xyz2_df = main.ca_coord_set.query(\"resid == @site2_r2\")\n",
    "dist_site2 = dist(xyz1_df[['x', 'y', 'z']].values, xyz2_df[['x', 'y', 'z']].values)\n",
    "\n",
    "dist_df2 = pd.DataFrame()\n",
    "dist_df2[['traj_id', 'timestep']] = xyz2_df[['traj_id', 'timestep']]\n",
    "dist_df2[['r1', 'r2']] = [site2_r1, site2_r2]\n",
    "dist_df2['distance'] = dist_site2\n",
    "\n",
    "fig, Axs = plt.subplots(5, 4, figsize=(12, 8), sharex=True, sharey=True, gridspec_kw={'hspace': 0.15, 'wspace': 0.1})\n",
    "\n",
    "fulld = [0,8,11]\n",
    "partiald = [1,3,4,6,9,10,12,13,15,16,17,19]\n",
    "\n",
    "for i, t, axs in zip(np.arange(len(traj_ids)), traj_ids, Axs.flatten()):\n",
    "    edgeformat(axs)\n",
    "    dist1 = dist_df1.query('traj_id == @t')['distance'].values\n",
    "    axs.plot(dist1)\n",
    "    dist1_6msm = 10.92\n",
    "    axs.plot([0,500], [dist1_6msm]*2, color='blue', ls='--')\n",
    "    \n",
    "    dist2 = dist_df2.query('traj_id == @t')['distance'].values\n",
    "    axs.plot(dist2)\n",
    "    dist2_6msm = 9.71\n",
    "    axs.plot([0,500], [dist2_6msm]*2, color='red', ls='--')\n",
    "    \n",
    "    axs.set_xlim(0,500)\n",
    "    xaxis(axs, title=None, min=0, max=500, step=250, labels=[0,0.5,1])\n",
    "    axs.set_ylim(0,50)\n",
    "    yaxis(axs, title=None, min=0, max=50, step=25)\n",
    "    \n",
    "    # Set background color\n",
    "    if i in fulld:\n",
    "        axs.set_facecolor('lightgreen')\n",
    "    elif i in partiald:\n",
    "        axs.set_facecolor('palegoldenrod')\n",
    "    \n",
    "background = fig.add_subplot(111)\n",
    "# Hide everything except the axis labels\n",
    "background.spines['top'].set_color('none')\n",
    "background.spines['bottom'].set_color('none')\n",
    "background.spines['left'].set_color('none')\n",
    "background.spines['right'].set_color('none')\n",
    "background.tick_params(labelcolor='none', top=False, bottom=False, left=False, right=False)\n",
    "# Also set the background to completely transparent\n",
    "background.patch.set_alpha(0.0)\n",
    "\n",
    "background.set_ylabel(\"Distance [$\\mathrm{\\AA}$]\", fontsize=16)\n",
    "background.set_xlabel(r'Time [$\\mathrm{\\mu}$s]', fontsize=16)\n",
    "\n",
    "# savefig(\"5uaksim_nbddist_vs_time.pdf\")"
   ]
  }
 ],
 "metadata": {
  "kernelspec": {
   "display_name": "Python 3",
   "language": "python",
   "name": "python3"
  },
  "language_info": {
   "codemirror_mode": {
    "name": "ipython",
    "version": 3
   },
   "file_extension": ".py",
   "mimetype": "text/x-python",
   "name": "python",
   "nbconvert_exporter": "python",
   "pygments_lexer": "ipython3",
   "version": "3.8.10"
  }
 },
 "nbformat": 4,
 "nbformat_minor": 5
}
