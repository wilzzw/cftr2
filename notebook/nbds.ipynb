{
 "cells": [
  {
   "cell_type": "code",
   "execution_count": 1,
   "id": "4cb6e38d",
   "metadata": {},
   "outputs": [],
   "source": [
    "import numpy as np\n",
    "import matplotlib.pyplot as plt\n",
    "\n",
    "from conf.nbds import nbdcom\n",
    "from plot.plot_utilities import hist1d, edgeformat, savefig"
   ]
  },
  {
   "cell_type": "code",
   "execution_count": 2,
   "id": "0f9e07cd",
   "metadata": {},
   "outputs": [],
   "source": [
    "%store -r traj_ids\n",
    "%store -r traj_ids_closed\n",
    "%store -r states_df\n",
    "\n",
    "all_trajids = np.concatenate([traj_ids, traj_ids_closed])"
   ]
  },
  {
   "cell_type": "code",
   "execution_count": 3,
   "id": "bdd01fa2",
   "metadata": {},
   "outputs": [],
   "source": [
    "nbd_main = nbdcom(all_trajids)\n",
    "nbd_main.load_allcom()"
   ]
  },
  {
   "cell_type": "code",
   "execution_count": null,
   "id": "235e6c76",
   "metadata": {},
   "outputs": [],
   "source": [
    "nbd_main.nbd1com['overall']"
   ]
  },
  {
   "cell_type": "code",
   "execution_count": 5,
   "id": "c7d99f7c",
   "metadata": {},
   "outputs": [],
   "source": [
    "nbdvec = nbd_main.nbd1com['overall'][['x', 'y', 'z']].values - nbd_main.nbd2com['overall'][['x', 'y', 'z']].values\n",
    "dist_nbd = np.linalg.norm(nbdvec, axis=1)"
   ]
  },
  {
   "cell_type": "code",
   "execution_count": null,
   "id": "86589f67",
   "metadata": {},
   "outputs": [],
   "source": [
    "fig, axs = plt.subplots()\n",
    "\n",
    "dist_nbd_6msm = dist_nbd[nbd_main.nbd1com['overall'].query(\"traj_id in @traj_ids\").index]\n",
    "\n",
    "hist1d(dist_nbd_6msm, bins=250, range=[25,50]).plot(axs)\n",
    "axs.set_xlim(25, 50)\n",
    "axs.set_ylim(0,1.2)\n",
    "axs.grid(True, ls='--')"
   ]
  },
  {
   "cell_type": "code",
   "execution_count": null,
   "id": "e33a9f4e",
   "metadata": {},
   "outputs": [],
   "source": [
    "fig, axs = plt.subplots()\n",
    "edgeformat(axs)\n",
    "\n",
    "dist_nbd_5uak = dist_nbd[nbd_main.nbd1com['overall'].query(\"traj_id in @traj_ids_closed\").index]\n",
    "\n",
    "hist1d(dist_nbd_5uak, bins=60, range=[25,65]).plot(axs)\n",
    "axs.set_xlim(25,65)\n",
    "axs.set_ylim(0,0.12)\n",
    "\n",
    "axs.set_xlabel(r\"NBD-distance [$\\mathrm{\\AA}$]\", fontsize=16)\n",
    "axs.set_ylabel(\"Prob. Density [A.U.]\", fontsize=16)\n",
    "\n",
    "# savefig(\"5uak_NBD_distance.pdf\")\n",
    "# %store dist_nbd_5uak"
   ]
  }
 ],
 "metadata": {
  "kernelspec": {
   "display_name": "Python 3",
   "language": "python",
   "name": "python3"
  },
  "language_info": {
   "codemirror_mode": {
    "name": "ipython",
    "version": 3
   },
   "file_extension": ".py",
   "mimetype": "text/x-python",
   "name": "python",
   "nbconvert_exporter": "python",
   "pygments_lexer": "ipython3",
   "version": "3.8.10"
  }
 },
 "nbformat": 4,
 "nbformat_minor": 5
}
