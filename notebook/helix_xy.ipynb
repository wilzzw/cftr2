{
 "cells": [
  {
   "cell_type": "code",
   "execution_count": null,
   "metadata": {},
   "outputs": [],
   "source": [
    "import numpy as np\n",
    "import pandas as pd\n",
    "import matplotlib.pyplot as plt\n",
    "import mdtraj as md\n",
    "\n",
    "from database.query import get_protdef\n",
    "from conf.tmhelix import helix_positions, inner_leaflet_defs, outer_leaflet_defs\n",
    "from utils.atomselect import select_resids_str, advanced_combine\n",
    "from utils.output_namespace import aligned_pdbfile\n",
    "from plot.plot_utilities import edgeformat, hist1d, hist2d, savefig"
   ]
  },
  {
   "cell_type": "markdown",
   "metadata": {},
   "source": [
    "# Preparation"
   ]
  },
  {
   "cell_type": "code",
   "execution_count": null,
   "metadata": {},
   "outputs": [],
   "source": [
    "%store -r traj_ids\n",
    "%store -r traj_ids_closed\n",
    "\n",
    "# Dict assigning integer state labels to names of the states\n",
    "%store -r map_assign\n",
    "# Dict assigning colors to the states\n",
    "%store -r color_assign\n",
    "# Dataframe containing the state assignments\n",
    "%store -r states_df"
   ]
  },
  {
   "cell_type": "markdown",
   "metadata": {
    "tags": []
   },
   "source": [
    "# Outer leaflet"
   ]
  },
  {
   "cell_type": "code",
   "execution_count": null,
   "metadata": {},
   "outputs": [],
   "source": [
    "leveldefs = outer_leaflet_defs\n",
    "# Revised to reflect repeating resID in leveldefs\n",
    "resids_zlevel = np.array(list(leveldefs.values())).flatten()\n",
    "\n",
    "# Load the pdb structure of 6MSM\n",
    "pdbstructure_6msm = md.load(aligned_pdbfile(pdb_code='6msm'))\n",
    "# Select the CA atoms of the resIDs in the z-level we want to plot\n",
    "ca_zlevel_6msm = np.hstack([pdbstructure_6msm.top.select(f'name CA and resSeq {r}') for r in resids_zlevel])\n",
    "# Retrieve the xy coordinates of the CA atoms of interest\n",
    "xy_6msm = pdbstructure_6msm.xyz[0, ca_zlevel_6msm, :2]*10\n",
    "\n",
    "# Load the pdb structure of 5UAK\n",
    "pdbstruc_5uak = md.load(aligned_pdbfile('5uak'))\n",
    "# Select the CA atoms of the resIDs in the z-level we want to plot\n",
    "ca_zlevel_5uak = np.hstack([pdbstruc_5uak.top.select(f'name CA and resSeq {r}') for r in resids_zlevel])\n",
    "# Retrieve the xy coordinates of the CA atoms of interest\n",
    "xy_5uak = pdbstruc_5uak.xyz[0, ca_zlevel_5uak, :2]*10"
   ]
  },
  {
   "cell_type": "code",
   "execution_count": null,
   "metadata": {},
   "outputs": [],
   "source": [
    "# Get protein domain definitions\n",
    "domain_dict = get_protdef(protein_id=1)\n",
    "# Names of the domains to align\n",
    "domains_align = [f\"TM{n}\" for n in np.arange(12)+1]\n",
    "# ResIDs to align to the reference with\n",
    "refalign_resids, _ = advanced_combine(1, 30, 1, *[domain_dict.get(tm) for tm in domains_align])\n",
    "# Process the resids to a selection string for mdtraj\n",
    "resid_alignment_selection_string = select_resids_str(refalign_resids, package='mdtraj') + \" and backbone\"\n",
    "\n",
    "# xyz coordinates of the resIDs to align to\n",
    "# Reference structure is 6MSM\n",
    "align_xyz = pdbstructure_6msm.xyz[0, pdbstructure_6msm.top.select(resid_alignment_selection_string)]*10"
   ]
  },
  {
   "cell_type": "code",
   "execution_count": null,
   "metadata": {},
   "outputs": [],
   "source": [
    "# Helix numbers to include/plot\n",
    "helixnums   =   list(range(1,12+1))\n",
    "# xyrange     =   [[-5,35],[30,70]]\n",
    "# Range of xy to show in the plot\n",
    "xyrange     =   [[-15,55],[0,70]] # For showing all helices\n",
    "# xyrange     =   [[-45,55],[0,100]] # For showing all helices from below\n",
    "# Number of bins in the histogram; both in x and y\n",
    "bins        =   100\n",
    "\n",
    "dataset = helix_positions(traj_ids, helixnums=helixnums, leveldefs=leveldefs)"
   ]
  },
  {
   "cell_type": "code",
   "execution_count": null,
   "metadata": {},
   "outputs": [],
   "source": [
    "# Used to make polar plot\n",
    "# Helices in pentagonal pore\n",
    "pentagon_helices = [1,6,8,11,12]\n",
    "# Use traj_ids as a reference for the pentagonal pore\n",
    "traj_ids_for_penta = traj_ids\n",
    "\n",
    "# Load the dataset used as a penta-pore reference and get the center\n",
    "helix_com_for_penta = helix_positions(traj_ids_for_penta, helixnums=pentagon_helices, leveldefs=leveldefs).helix_com[['x', 'y']].values\n",
    "penta_center = np.mean(helix_com_for_penta, axis=0)\n",
    "\n",
    "# Center of 5 helices in xy plane\n",
    "centerx, centery = penta_center\n",
    "\n",
    "# Shift the xy coordinates of the helices to the center\n",
    "dataset.helix_com['xc'] = dataset.helix_com['x'] - centerx\n",
    "dataset.helix_com['yc'] = dataset.helix_com['y'] - centery\n",
    "\n",
    "# Centered range\n",
    "crange = [[x-centerx for x in xyrange[0]], [y-centery for y in xyrange[1]]]\n",
    "\n",
    "# Shift the xy coordinates of the helices from pdb structures to the center\n",
    "xy_6msm = xy_6msm - np.array([centerx, centery])\n",
    "xy_5uak = xy_5uak - np.array([centerx, centery])"
   ]
  },
  {
   "cell_type": "code",
   "execution_count": null,
   "metadata": {},
   "outputs": [],
   "source": [
    "# Contour plot showing density of positions\n",
    "fig, axs = plt.subplots()\n",
    "\n",
    "for h in helixnums:\n",
    "    helix_cxy = dataset.helix_com.query('helix == @h')[['xc', 'yc']].values\n",
    "    helix_hist2d = hist2d(*helix_cxy.T, bins=bins, range=crange)\n",
    "    helix_hist2d.dens2d_preset2(axs, lines=True, lw=0.2, nlevels=15, lmax=0.32)\n",
    "\n",
    "axs.scatter(*xy_6msm.T, c='cyan', marker='x', s=32)\n",
    "# axs.scatter(*xy_5uak.T, c='blue', marker='x', s=32)\n",
    "\n",
    "axs.set_aspect('equal', adjustable='box', anchor='C')\n",
    "axs.grid(True, ls='--')\n",
    "axs.set_xlim(-20,30)\n",
    "axs.set_ylim(-30,20)\n",
    "axs.set_xlabel('x [Å]', fontsize=14)\n",
    "axs.set_ylabel('y [Å]', fontsize=14)\n",
    "\n",
    "# savefig('allhelix_xy_outer.pdf')"
   ]
  },
  {
   "cell_type": "markdown",
   "metadata": {},
   "source": [
    "# Closed states"
   ]
  },
  {
   "cell_type": "code",
   "execution_count": null,
   "metadata": {},
   "outputs": [],
   "source": [
    "dataset2 = helix_positions(traj_ids_closed, helixnums=helixnums, leveldefs=outer_leaflet_defs)\n",
    "\n",
    "# Used to make polar plot\n",
    "# Exclude helix 2 as it is not part of the suggested pentamer\n",
    "\n",
    "dataset2.helix_com['xc'] = dataset2.helix_com['x'] - centerx\n",
    "dataset2.helix_com['yc'] = dataset2.helix_com['y'] - centery\n",
    "\n",
    "# Centered range\n",
    "crange = [[x-centerx for x in xyrange[0]], [y-centery for y in xyrange[1]]]"
   ]
  },
  {
   "cell_type": "markdown",
   "metadata": {},
   "source": [
    "## Outer leaflet TM arrangement is the same regardless of NBD dimerization"
   ]
  },
  {
   "cell_type": "code",
   "execution_count": null,
   "metadata": {},
   "outputs": [],
   "source": [
    "%store -r dist_nbd_5uak\n",
    "\n",
    "fig, axs = plt.subplots(1,2, figsize=(8,12), gridspec_kw={'wspace': 0.4})\n",
    "\n",
    "for h in helixnums:\n",
    "    helix_cxy = dataset2.helix_com.query('helix == @h')[['xc', 'yc']].values[dist_nbd_5uak >= 40]\n",
    "    helix_hist2d = hist2d(*helix_cxy.T, bins=bins, range=crange)\n",
    "    helix_hist2d.dens2d_preset2(axs[0], lines=True, lw=0.2, nlevels=15, lmax=0.77)\n",
    "    print(helix_hist2d.densmax)\n",
    "\n",
    "# axs[0].scatter(*xy_6msm.T, c='red', marker='x', s=32)\n",
    "axs[0].scatter(*xy_5uak.T, c='blue', marker='x', s=32)\n",
    "\n",
    "axs[0].set_xlim(-20,30)\n",
    "axs[0].set_ylim(-30,20)\n",
    "axs[0].set_xlabel('x [Å]', fontsize=16)\n",
    "axs[0].set_ylabel('y [Å]', fontsize=16)\n",
    "\n",
    "\n",
    "for h in helixnums:\n",
    "    helix_cxy = dataset2.helix_com.query('helix == @h')[['xc', 'yc']].values[dist_nbd_5uak < 40]\n",
    "    helix_hist2d = hist2d(*helix_cxy.T, bins=bins, range=crange)\n",
    "    helix_hist2d.dens2d_preset2(axs[1], lines=True, lw=0.2, nlevels=15, lmax=0.77)\n",
    "    print(helix_hist2d.densmax)\n",
    "\n",
    "# axs[1].scatter(*xy_6msm.T, c='red', marker='x', s=32)\n",
    "axs[1].scatter(*xy_5uak.T, c='blue', marker='x', s=32)\n",
    "\n",
    "axs[1].set_xlim(-20,30)\n",
    "axs[1].set_ylim(-30,20)\n",
    "axs[1].set_xlabel('x [Å]', fontsize=16)\n",
    "axs[1].set_ylabel('y [Å]', fontsize=16)\n",
    "\n",
    "# savefig(\"5uak_helix_xy_distribution.pdf\")"
   ]
  },
  {
   "cell_type": "markdown",
   "metadata": {},
   "source": [
    "## Radial plot"
   ]
  },
  {
   "cell_type": "code",
   "execution_count": null,
   "metadata": {},
   "outputs": [],
   "source": [
    "extent_xy = 20\n",
    "grid_stride = 4\n",
    "\n",
    "# Convert x,y to polar coordinates\n",
    "dataset.helix_com['r'] = np.sqrt(dataset.helix_com['xc']**2 + dataset.helix_com['yc']**2)\n",
    "dataset.helix_com['theta'] = np.arctan2(dataset.helix_com['yc'], dataset.helix_com['xc'])"
   ]
  },
  {
   "cell_type": "markdown",
   "metadata": {
    "tags": []
   },
   "source": [
    "### Breakdown by tmpc states"
   ]
  },
  {
   "cell_type": "code",
   "execution_count": null,
   "metadata": {
    "tags": []
   },
   "outputs": [],
   "source": [
    "# Use dimensions of axes from the previous plot for the polar plot\n",
    "bbox = axs.get_position()\n",
    "x0, y0, width, height = bbox.x0, bbox.y0, bbox.width, bbox.height\n",
    "rect = [x0, y0, width, height]\n",
    "\n",
    "states_df = states_df.query(\"traj_id in @traj_ids\")\n",
    "states_df.reset_index(inplace=True)\n",
    "\n",
    "state_def   = 'tmpc1v2'\n",
    "nstates     = 4\n",
    "\n",
    "fig = plt.figure(figsize=(8,8))\n",
    "\n",
    "for s in np.arange(nstates):\n",
    "    state_select = (states_df[state_def].values == s)\n",
    "\n",
    "    # Contour plot showing density of positions\n",
    "    # TODO: makes add_subplot() layout more general\n",
    "    axs = fig.add_subplot(2,2,s+1)\n",
    "\n",
    "    # Pore lining helices\n",
    "    for h in [1,6,8,11,12]:\n",
    "        hcoords = dataset.helix_com.query('helix == @h').loc[state_select][['xc', 'yc']].values\n",
    "        # Fixed: There is a bug about contour levels must be increasing\n",
    "        # So there might be values that if added to the cumul density, jumps through the contour\n",
    "        # Pathological example shows that cumul 90 and 100 are the same level values\n",
    "        # Reducing num of contour levels or increasing resolution of contour (more bins) might help\n",
    "        hist = hist2d(*hcoords.T, range=crange, bins=bins)\n",
    "        plot = hist.dens2d_preset2(axs, cbar_show=False, lw=0.3)\n",
    "    \n",
    "    # Alt setting\n",
    "    axs.set_aspect('equal', adjustable='box', anchor='C')\n",
    "    axs.set_xticks(np.arange(-16,16+1,4))\n",
    "    axs.set_xticklabels([None]*len(np.arange(-16,16+1,4))) ##\n",
    "    axs.set_yticks(np.arange(-16,16+1,4))\n",
    "    axs.set_yticklabels([None]*len(np.arange(-16,16+1,4))) ##\n",
    "    axs.grid(False)\n",
    "    axs.set_xlim(-16,16)\n",
    "    axs.set_ylim(-16,16)\n",
    "    edgeformat(axs,0,0)\n",
    "\n",
    "    axs = fig.add_subplot(2,2,s+1, polar=True, frameon=False)\n",
    "\n",
    "    axs.set_rmax(16)\n",
    "    axs.set_rgrids(np.arange(0,16+4,4), angle=270, labels=[])\n",
    "\n",
    "    # Hide theta tick labels\n",
    "    axs.set_thetagrids(np.arange(0,360+45,45), labels=[])\n",
    "\n",
    "    # Change the grid line style to be more subtle\n",
    "    axs.grid(True, ls='--', lw=2)\n",
    "\n",
    "# Set the hspace and wspace to zero\n",
    "fig.subplots_adjust(hspace=0, wspace=0)\n",
    "    \n",
    "# savefig('centric_polar_5helixplot_alt.pdf')"
   ]
  },
  {
   "cell_type": "markdown",
   "metadata": {
    "jp-MarkdownHeadingCollapsed": true,
    "tags": []
   },
   "source": [
    "# Visualize transitions"
   ]
  },
  {
   "cell_type": "markdown",
   "metadata": {},
   "source": [
    "## TM1"
   ]
  },
  {
   "cell_type": "code",
   "execution_count": null,
   "metadata": {},
   "outputs": [],
   "source": [
    "fig, axs = plt.subplots()\n",
    "\n",
    "helix_cxy = dataset.helix_com.query('helix == 1')[['xc', 'yc']].values\n",
    "helix_hist2d = hist2d(*helix_cxy.T, bins=50, range=[[-5,5],[0,10]])\n",
    "helix_hist2d.dens2d_preset2(axs, lines=True, lw=0.2, nlevels=15, lmax=0.11)\n",
    "\n",
    "axs.set_xlim(-5,5)\n",
    "axs.set_ylim(0,10)\n",
    "\n",
    "from clustering.substate_clusters import substates\n",
    "\n",
    "pop_divide = substates(2, *helix_cxy.T)\n",
    "pop_divide.gaussian_mixture()\n",
    "pop_divide.indicate_centers(axs, helix_hist2d.xedges, helix_hist2d.yedges, mdist_lim=1.386)"
   ]
  },
  {
   "cell_type": "code",
   "execution_count": null,
   "metadata": {},
   "outputs": [],
   "source": [
    "sub_df = dataset.helix_com.query('helix == 1')[['traj_id', 'timestep', 'xc', 'yc']].copy()\n",
    "sub_df['state'] = pop_divide.hardgm_states()\n",
    "\n",
    "i = 0\n",
    "for t, df in sub_df.groupby('traj_id'):\n",
    "    if np.any(df['state'] == 0) and np.any(df['state'] == 1):\n",
    "        i += 1\n",
    "        fig, axs = plt.subplots()\n",
    "        helix_hist2d.hist2d_contour(axs, lines=True, lw=0.2, nlevels=15, lmax=0.11)\n",
    "\n",
    "        axs.set_aspect('equal', adjustable='box', anchor='C')\n",
    "        axs.grid(True, ls='--')\n",
    "        axs.set_xlim(-5,5)\n",
    "        axs.set_ylim(0,10)\n",
    "\n",
    "        axs.plot(*df[['xc', 'yc']].values.T)\n",
    "        axs.set_title(f\"{t}\")\n",
    "# print(i)"
   ]
  },
  {
   "cell_type": "markdown",
   "metadata": {},
   "source": [
    "## TM11"
   ]
  },
  {
   "cell_type": "code",
   "execution_count": null,
   "metadata": {},
   "outputs": [],
   "source": [
    "fig, axs = plt.subplots()\n",
    "\n",
    "helix_cxy = dataset.helix_com.query('helix == 11')[['xc', 'yc']].values\n",
    "helix_hist2d = hist2d(*helix_cxy.T, bins=50, range=[[-15,-5],[-5,5]])\n",
    "helix_hist2d.dens2d_preset2(axs, lines=True, lw=0.2, nlevels=15, lmax=0.15)\n",
    "\n",
    "axs.set_xlim(-15,-5)\n",
    "axs.set_ylim(-5,5)\n",
    "\n",
    "from clustering.substate_clusters import substates\n",
    "\n",
    "pop_divide = substates(2, *helix_cxy.T)\n",
    "pop_divide.gaussian_mixture()\n",
    "pop_divide.indicate_centers(axs, helix_hist2d.xedges, helix_hist2d.yedges, mdist_lim=1)"
   ]
  },
  {
   "cell_type": "code",
   "execution_count": null,
   "metadata": {},
   "outputs": [],
   "source": [
    "sub_df = dataset.helix_com.query('helix == 11')[['traj_id', 'timestep', 'xc', 'yc']].copy()\n",
    "sub_df['state'] = pop_divide.hardgm_states(mdist_lim=1)\n",
    "\n",
    "i = 0\n",
    "for t, df in sub_df.groupby('traj_id'):\n",
    "    if np.any(df['state'] == 0) and np.any(df['state'] == 1):\n",
    "        i += 1\n",
    "        # fig, axs = plt.subplots()\n",
    "        # helix_hist2d.hist2d_contour(axs, lines=True, lw=0.2, nlevels=15, lmax=0.15)\n",
    "\n",
    "        # axs.set_aspect('equal', adjustable='box', anchor='C')\n",
    "        # axs.grid(True, ls='--')\n",
    "        # axs.set_xlim(-15,-5)\n",
    "        # axs.set_ylim(-5,5)\n",
    "\n",
    "        # axs.plot(*df[['xc', 'yc']].values.T)\n",
    "        # axs.set_title(f\"{t}\")\n",
    "# print(i)"
   ]
  },
  {
   "cell_type": "markdown",
   "metadata": {
    "tags": []
   },
   "source": [
    "# Symmetry of the pore"
   ]
  },
  {
   "cell_type": "code",
   "execution_count": null,
   "metadata": {},
   "outputs": [],
   "source": [
    "# Symmetry-ness of the pentagonal pore\n",
    "pentagon_df = dataset.helix_com.query('helix in @pentagon_helices')\n",
    "pentagon_df['dist'] = np.sqrt(pentagon_df['xc']**2 + pentagon_df['yc']**2)\n",
    "# print(pentagon_df['dist'].describe())\n",
    "\n",
    "state_labels = states_df['tmpc1v2'].unique()\n",
    "\n",
    "fig, axs = plt.subplots(figsize=(6,2))\n",
    "edgeformat(axs)\n",
    "\n",
    "for s in [3,0,2,1]:\n",
    "    tf = states_df.query('tmpc1v2 == @s')[['traj_id', 'timestep']]\n",
    "    distances2center = pd.merge(tf, pentagon_df, on=['traj_id', 'timestep'])['dist']\n",
    "    hist1d(distances2center, bins=100, range=[0,20]).plot(axs, label=map_assign[s], color=color_assign[s], lw=2)\n",
    "plt.legend()\n",
    "\n",
    "plt.xlim(0,16)\n",
    "plt.ylim(0,0.5)\n",
    "plt.xlabel(r\"$d_{\\mathrm{center-helix}}$ [Å]\", fontsize=16)\n",
    "plt.ylabel(\"Prob. density [A.U.]\", fontsize=16)\n",
    "plt.grid(True, ls='--')\n",
    "\n",
    "# savefig(\"symmetry_of_the_pore.pdf\")"
   ]
  },
  {
   "cell_type": "code",
   "execution_count": null,
   "metadata": {},
   "outputs": [],
   "source": [
    "fig, axs = plt.subplots(2,2, sharex=True, sharey=True, gridspec_kw={'hspace': 0, 'wspace': 0})\n",
    "\n",
    "background = fig.add_subplot(111)\n",
    "# Hide everything except the axis labels\n",
    "background.spines['top'].set_color('none')\n",
    "background.spines['bottom'].set_color('none')\n",
    "background.spines['left'].set_color('none')\n",
    "background.spines['right'].set_color('none')\n",
    "background.tick_params(labelcolor='none', top=False, bottom=False, left=False, right=False)\n",
    "# Also set the background to completely transparent\n",
    "background.patch.set_alpha(0.0)\n",
    "\n",
    "background.set_ylabel(\"Prob. Density [A.U.]\", fontsize=16)\n",
    "background.set_xlabel(\"Distance to centre [Å]\", fontsize=16)\n",
    "\n",
    "\n",
    "pentagon_df = dataset.helix_com.query('helix in @pentagon_helices')\n",
    "pentagon_df['dist'] = np.sqrt(pentagon_df['xc']**2 + pentagon_df['yc']**2)\n",
    "\n",
    "for s, ax in zip([0,1,2,3], axs.flatten()):\n",
    "    edgeformat(ax)\n",
    "    \n",
    "    tf = states_df.query('tmpc1v2 == @s')[['traj_id', 'timestep']]\n",
    "    pentagon_states_subdf = pd.merge(tf, pentagon_df, on=['traj_id', 'timestep'])\n",
    "\n",
    "    for h in pentagon_helices:\n",
    "        distances2center = pentagon_states_subdf.query('helix == @h')['dist']\n",
    "        hist1d(distances2center, bins=100, range=[0,20]).plot(ax, label=f'TM{h}')\n",
    "    \n",
    "    ax.text(0.05, 0.8, map_assign[s], transform=ax.transAxes, fontsize=16)\n",
    "    ax.set_xlim(0,20+2)\n",
    "    ax.set_ylim(0,1.1)\n",
    "ax.legend()\n",
    "\n",
    "# savefig(\"pore_symmetry_by_helix.pdf\")"
   ]
  },
  {
   "cell_type": "markdown",
   "metadata": {
    "jp-MarkdownHeadingCollapsed": true,
    "tags": []
   },
   "source": [
    "# Inner leaflet"
   ]
  },
  {
   "cell_type": "code",
   "execution_count": null,
   "metadata": {},
   "outputs": [],
   "source": [
    "leveldefs = inner_leaflet_defs\n",
    "# Revised to reflect repeating resID in leveldefs\n",
    "resids_zlevel = np.array(list(leveldefs.values())).flatten()\n",
    "\n",
    "\n",
    "# Load the pdb structure of 6MSM\n",
    "pdbstructure_6msm = md.load(aligned_pdbfile('6msm'))\n",
    "# Select the CA atoms of the resIDs in the z-level we want to plot\n",
    "ca_zlevel_6msm = np.hstack([pdbstructure_6msm.top.select(f'name CA and resSeq {r}') for r in resids_zlevel])\n",
    "# Retrieve the xy coordinates of the CA atoms of interest\n",
    "xy_6msm = pdbstructure_6msm.xyz[0, ca_zlevel_6msm, :2]*10\n",
    "\n",
    "# Load the pdb structure of 5UAK\n",
    "pdbstruc_5uak = md.load(aligned_pdbfile('5uak'))\n",
    "# Select the CA atoms of the resIDs in the z-level we want to plot\n",
    "ca_zlevel_5uak = np.hstack([pdbstruc_5uak.top.select(f'name CA and resSeq {r}') for r in resids_zlevel])\n",
    "# Retrieve the xy coordinates of the CA atoms of interest\n",
    "xy_5uak = pdbstruc_5uak.xyz[0, ca_zlevel_5uak, :2]*10"
   ]
  },
  {
   "cell_type": "code",
   "execution_count": null,
   "metadata": {},
   "outputs": [],
   "source": [
    "# Get protein domain definitions\n",
    "domain_dict = get_protdef(protein_id=1)\n",
    "# Names of the domains to align\n",
    "domains_align = [f\"TM{n}\" for n in np.arange(12)+1]#['TM1', 'TM2', 'TM3', 'TM6', 'TM10', 'TM11']\n",
    "# ResIDs to align to the reference with\n",
    "refalign_resids, _ = advanced_combine(1, 30, 1, *[domain_dict.get(tm) for tm in domains_align])\n",
    "# Process the resids to a selection string for mdtraj\n",
    "resid_alignment_selection_string = select_resids_str(refalign_resids, package='mdtraj') + \" and backbone\"\n",
    "\n",
    "# xyz coordinates of the resIDs to align to\n",
    "# Reference structure is 6MSM\n",
    "align_xyz = pdbstructure_6msm.xyz[0, pdbstructure_6msm.top.select(resid_alignment_selection_string)]*10"
   ]
  },
  {
   "cell_type": "code",
   "execution_count": null,
   "metadata": {},
   "outputs": [],
   "source": [
    "# Helix numbers to include/plot\n",
    "helixnums   =   list(range(1,12+1))\n",
    "# Range of xy to show in the plot\n",
    "# xyrange     =   [[-15,55],[0,70]] # For showing all helices\n",
    "xyrange     =   [[-45,55],[0,100]] # For showing all helices from below\n",
    "# Number of bins in the histogram; both in x and y\n",
    "bins        =   100\n",
    "\n",
    "dataset = helix_positions(traj_ids, helixnums=helixnums, leveldefs=leveldefs)"
   ]
  },
  {
   "cell_type": "code",
   "execution_count": null,
   "metadata": {},
   "outputs": [],
   "source": [
    "# Used to make polar plot\n",
    "# Helices in pentagonal pore\n",
    "pentagon_helices = [1,6,8,11,12]\n",
    "# May be different from the traj_ids analyzed\n",
    "traj_ids_for_penta = traj_ids\n",
    "\n",
    "# Load the dataset used as a penta-pore reference and get the center\n",
    "helix_com_for_penta = helix_positions(traj_ids_for_penta, helixnums=pentagon_helices, leveldefs=leveldefs).helix_com[['x', 'y']].values\n",
    "penta_center = np.mean(helix_com_for_penta, axis=0)\n",
    "\n",
    "# Center of 5 helices in xy plane\n",
    "centerx, centery = penta_center\n",
    "\n",
    "# Shift the xy coordinates of the helices to the center\n",
    "dataset.helix_com['xc'] = dataset.helix_com['x'] - centerx\n",
    "dataset.helix_com['yc'] = dataset.helix_com['y'] - centery\n",
    "\n",
    "# Centered range\n",
    "crange = [[x-centerx for x in xyrange[0]], [y-centery for y in xyrange[1]]]\n",
    "\n",
    "# Shift the xy coordinates of the helices from pdb structures to the center\n",
    "xy_6msm = xy_6msm - np.array([centerx, centery])\n",
    "xy_5uak = xy_5uak - np.array([centerx, centery])"
   ]
  },
  {
   "cell_type": "code",
   "execution_count": null,
   "metadata": {},
   "outputs": [],
   "source": [
    "# Contour plot showing density of positions\n",
    "fig, axs = plt.subplots()\n",
    "\n",
    "for h in helixnums:\n",
    "    helix_cxy = dataset.helix_com.query('helix == @h')[['xc', 'yc']].values\n",
    "    helix_hist2d = hist2d(*helix_cxy.T, bins=bins, range=crange)\n",
    "    helix_hist2d.dens2d_preset2(axs, lines=True, lw=0.2, nlevels=15, lmax=0.46)\n",
    "    # print(helix_hist2d.densmax)\n",
    "\n",
    "axs.scatter(*xy_6msm.T, c='cyan', marker='x', s=32)\n",
    "# axs.scatter(*xy_5uak.T, c='blue', marker='x', s=32)\n",
    "\n",
    "axs.set_aspect('equal', adjustable='box', anchor='C')\n",
    "axs.grid(True, ls='--')\n",
    "axs.set_xlim(-30,30)\n",
    "axs.set_ylim(-30,30)\n",
    "axs.set_xlabel('x [Å]', fontsize=14)\n",
    "axs.set_ylabel('y [Å]', fontsize=14)\n",
    "\n",
    "# savefig('allhelix_xy_inner.pdf')"
   ]
  },
  {
   "cell_type": "code",
   "execution_count": null,
   "metadata": {},
   "outputs": [],
   "source": [
    "# Use dimensions of axes from the previous plot for the polar plot\n",
    "bbox = axs.get_position()\n",
    "x0, y0, width, height = bbox.x0, bbox.y0, bbox.width, bbox.height\n",
    "rect = [x0, y0, width, height]\n",
    "\n",
    "# states_df = states_df.query(\"traj_id in @traj_ids\")\n",
    "# states_df.reset_index(inplace=True)\n",
    "\n",
    "state_def   = 'tm1'\n",
    "\n",
    "fig, axs = plt.subplots(figsize=(6,6))\n",
    "\n",
    "state_select = (states_df[state_def].values == 1)\n",
    "for h in [1,2,6,8,10,11,12]:\n",
    "    hcoords = dataset.helix_com.query('helix == @h').loc[state_select][['xc', 'yc']].values\n",
    "    hist = hist2d(*hcoords.T, range=crange, bins=bins)\n",
    "    plot = hist.hist2d_contour(axs, levels=np.linspace(0, 0.4, 15)[1:], lw=0.3, colors='red')\n",
    "\n",
    "state_select = (states_df[state_def].values != 1)\n",
    "for h in [1,2,6,8,10,11,12]:\n",
    "    hcoords = dataset.helix_com.query('helix == @h').loc[state_select][['xc', 'yc']].values\n",
    "    hist = hist2d(*hcoords.T, range=crange, bins=bins)\n",
    "    plot = hist.hist2d_contour(axs, levels=np.linspace(0, 0.4, 15)[1:], lw=0.3, colors='blue')\n",
    "\n",
    "# Alt setting\n",
    "axs.set_aspect('equal', adjustable='box', anchor='C')\n",
    "axs.set_xticks(np.arange(-20,20+1,4))\n",
    "axs.set_xticklabels([None]*len(np.arange(-20,20+1,4))) ##\n",
    "axs.set_yticks(np.arange(-20,20+1,4))\n",
    "axs.set_yticklabels([None]*len(np.arange(-20,20+1,4))) ##\n",
    "axs.grid(False)\n",
    "axs.set_xlim(-20,20)\n",
    "axs.set_ylim(-20,20)\n",
    "edgeformat(axs,0,0)\n",
    "\n",
    "axs.fill_between([-20,0,20], [0,0,0], [20,20,20], alpha=0.2, color='blue')\n",
    "\n",
    "axs = fig.add_subplot(1,1,1, polar=True, frameon=False)\n",
    "\n",
    "axs.set_rmax(extent_xy)\n",
    "axs.set_rgrids(np.arange(0,20+4,4), angle=270, labels=[])\n",
    "\n",
    "# Hide theta tick labels\n",
    "axs.set_thetagrids(np.arange(0,360+45,45), labels=[])\n",
    "\n",
    "# Change the grid line style to be more subtle\n",
    "axs.grid(True, ls='--', lw=2)\n",
    "    \n",
    "# savefig('centric_polar_6helixplot_compare_bluered.pdf')"
   ]
  },
  {
   "cell_type": "code",
   "execution_count": null,
   "metadata": {},
   "outputs": [],
   "source": [
    "# Use dimensions of axes from the previous plot for the polar plot\n",
    "bbox = axs.get_position()\n",
    "x0, y0, width, height = bbox.x0, bbox.y0, bbox.width, bbox.height\n",
    "rect = [x0, y0, width, height]\n",
    "\n",
    "\n",
    "fig, axs = plt.subplots(figsize=(6,6))\n",
    "\n",
    "state_def   = 'tmpc1v2'\n",
    "state_select = (states_df[state_def].values == 1)\n",
    "for h in [1,2,6,8,10,11,12]:\n",
    "    hcoords = dataset.helix_com.query('helix == @h').loc[state_select][['xc', 'yc']].values\n",
    "    hist = hist2d(*hcoords.T, range=crange, bins=bins)\n",
    "    plot = hist.hist2d_contour(axs, levels=np.linspace(0, 0.58, 15)[1:], lw=0.1, colors='red')\n",
    "    print(hist.densmax)\n",
    "\n",
    "for h in [1,2,6,8,10,11,12]:\n",
    "    hcoords = dataset2.helix_com.query('helix == @h')[['xc', 'yc']].values\n",
    "    hist = hist2d(*hcoords.T, range=crange, bins=bins)\n",
    "    plot = hist.hist2d_contour(axs, levels=np.linspace(0, 0.58, 15)[1:], lw=0.1, colors='black')\n",
    "    print(hist.densmax)\n",
    "    \n",
    "# Alt setting\n",
    "axs.set_aspect('equal', adjustable='box', anchor='C')\n",
    "axs.set_xticks(np.arange(-extent_xy,extent_xy+1,4))\n",
    "axs.set_xticklabels([None]*len(np.arange(-extent_xy,extent_xy+1,4))) ##\n",
    "axs.set_yticks(np.arange(-extent_xy,extent_xy+1,4))\n",
    "axs.set_yticklabels([None]*len(np.arange(-extent_xy,extent_xy+1,4))) ##\n",
    "axs.grid(False)\n",
    "axs.set_xlim(-extent_xy,extent_xy)\n",
    "axs.set_ylim(-extent_xy,extent_xy)\n",
    "edgeformat(axs,0,0)\n",
    "\n",
    "axs.fill_between([-20,0,20], [-6,0,0], [20,20,20], alpha=0.2, color='blue')\n",
    "\n",
    "axs = fig.add_subplot(1,1,1, polar=True, frameon=False)\n",
    "\n",
    "axs.set_rmax(extent_xy)\n",
    "axs.set_rgrids(np.arange(0,extent_xy+4,4), angle=270, labels=[])\n",
    "\n",
    "# Hide theta tick labels\n",
    "axs.set_thetagrids(np.arange(0,360+45,45), labels=[])\n",
    "\n",
    "# Change the grid line style to be more subtle\n",
    "axs.grid(True, ls='--', lw=2)\n",
    "    \n",
    "# savefig('centric_polar_6helixplot_compare_closed_open_blackred.pdf')"
   ]
  }
 ],
 "metadata": {
  "kernelspec": {
   "display_name": "Python 3",
   "language": "python",
   "name": "python3"
  },
  "language_info": {
   "codemirror_mode": {
    "name": "ipython",
    "version": 3
   },
   "file_extension": ".py",
   "mimetype": "text/x-python",
   "name": "python",
   "nbconvert_exporter": "python",
   "pygments_lexer": "ipython3",
   "version": "3.8.10"
  }
 },
 "nbformat": 4,
 "nbformat_minor": 4
}
